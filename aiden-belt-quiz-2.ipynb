{
 "cells": [
  {
   "cell_type": "markdown",
   "metadata": {},
   "source": [
    "# Quiz Two"
   ]
  },
  {
   "cell_type": "markdown",
   "metadata": {},
   "source": [
    "## Your Name: Aiden Belt"
   ]
  },
  {
   "cell_type": "markdown",
   "metadata": {},
   "source": [
    "## Instructions:\n",
    "Solve all problems in python to the best of your ability. You are welcome to use Excel in order to check your answers, but you must submit a python notebook exported as an html file to receive full credit. Furthermore, feel free to collaborate with your fellow classmates. You need to turn in your own copy of the notebook. Make sure your name is on the top of the notebook and is visible when you export it to html."
   ]
  },
  {
   "cell_type": "markdown",
   "metadata": {},
   "source": [
    "### Due Date: Wednesday, March 17 2023 at 11.59pm"
   ]
  },
  {
   "cell_type": "code",
   "execution_count": 1,
   "metadata": {},
   "outputs": [],
   "source": [
    "import pandas as pd\n",
    "import pyomo.environ as pe\n",
    "import matplotlib.pyplot as plt\n",
    "import seaborn as sns"
   ]
  },
  {
   "cell_type": "markdown",
   "metadata": {},
   "source": [
    "## Problem One: Flavors"
   ]
  },
  {
   "cell_type": "markdown",
   "metadata": {},
   "source": [
    "In this problem, we have five flavors of products that we can make: Apple, Banana, Chocolate, Elderberry, and Fig. The price for each product is listed along with the expected price if they are produced. We want to maximize our profit and determine how many of each product we should make. The data are given in the `flavors` tab of the `quiz-2.xlsx` spreadsheet. Note that there are both Fixed and Variable Costs because we do not have to make each product. "
   ]
  },
  {
   "cell_type": "code",
   "execution_count": 2,
   "metadata": {},
   "outputs": [
    {
     "data": {
      "text/html": [
       "<div>\n",
       "<style scoped>\n",
       "    .dataframe tbody tr th:only-of-type {\n",
       "        vertical-align: middle;\n",
       "    }\n",
       "\n",
       "    .dataframe tbody tr th {\n",
       "        vertical-align: top;\n",
       "    }\n",
       "\n",
       "    .dataframe thead th {\n",
       "        text-align: right;\n",
       "    }\n",
       "</style>\n",
       "<table border=\"1\" class=\"dataframe\">\n",
       "  <thead>\n",
       "    <tr style=\"text-align: right;\">\n",
       "      <th></th>\n",
       "      <th>Unnamed: 1</th>\n",
       "      <th>Unnamed: 2</th>\n",
       "      <th>Unnamed: 3</th>\n",
       "      <th>Unnamed: 4</th>\n",
       "      <th>Unnamed: 5</th>\n",
       "      <th>Unnamed: 6</th>\n",
       "      <th>Unnamed: 7</th>\n",
       "    </tr>\n",
       "  </thead>\n",
       "  <tbody>\n",
       "    <tr>\n",
       "      <th>0</th>\n",
       "      <td>NaN</td>\n",
       "      <td>NaN</td>\n",
       "      <td>NaN</td>\n",
       "      <td>NaN</td>\n",
       "      <td>NaN</td>\n",
       "      <td>NaN</td>\n",
       "      <td>NaN</td>\n",
       "    </tr>\n",
       "    <tr>\n",
       "      <th>1</th>\n",
       "      <td>Units Required</td>\n",
       "      <td>Apple</td>\n",
       "      <td>Banana</td>\n",
       "      <td>Chocolate</td>\n",
       "      <td>Elderberry</td>\n",
       "      <td>Fig</td>\n",
       "      <td>Units Available</td>\n",
       "    </tr>\n",
       "    <tr>\n",
       "      <th>2</th>\n",
       "      <td>Mixing</td>\n",
       "      <td>5</td>\n",
       "      <td>6</td>\n",
       "      <td>7</td>\n",
       "      <td>3</td>\n",
       "      <td>4</td>\n",
       "      <td>2700</td>\n",
       "    </tr>\n",
       "    <tr>\n",
       "      <th>3</th>\n",
       "      <td>Preparation</td>\n",
       "      <td>3</td>\n",
       "      <td>5</td>\n",
       "      <td>6</td>\n",
       "      <td>6</td>\n",
       "      <td>6</td>\n",
       "      <td>2700</td>\n",
       "    </tr>\n",
       "    <tr>\n",
       "      <th>4</th>\n",
       "      <td>Blending</td>\n",
       "      <td>4</td>\n",
       "      <td>4</td>\n",
       "      <td>4</td>\n",
       "      <td>3</td>\n",
       "      <td>4</td>\n",
       "      <td>2500</td>\n",
       "    </tr>\n",
       "    <tr>\n",
       "      <th>5</th>\n",
       "      <td>Packaging</td>\n",
       "      <td>2</td>\n",
       "      <td>3</td>\n",
       "      <td>3</td>\n",
       "      <td>5</td>\n",
       "      <td>5</td>\n",
       "      <td>2500</td>\n",
       "    </tr>\n",
       "    <tr>\n",
       "      <th>6</th>\n",
       "      <td>NaN</td>\n",
       "      <td>NaN</td>\n",
       "      <td>NaN</td>\n",
       "      <td>NaN</td>\n",
       "      <td>NaN</td>\n",
       "      <td>NaN</td>\n",
       "      <td>NaN</td>\n",
       "    </tr>\n",
       "    <tr>\n",
       "      <th>7</th>\n",
       "      <td>NaN</td>\n",
       "      <td>Apple</td>\n",
       "      <td>Banana</td>\n",
       "      <td>Chocolate</td>\n",
       "      <td>Elderberry</td>\n",
       "      <td>Fig</td>\n",
       "      <td>NaN</td>\n",
       "    </tr>\n",
       "    <tr>\n",
       "      <th>8</th>\n",
       "      <td>Fixed Setup cost</td>\n",
       "      <td>60</td>\n",
       "      <td>78</td>\n",
       "      <td>91</td>\n",
       "      <td>40</td>\n",
       "      <td>40</td>\n",
       "      <td>NaN</td>\n",
       "    </tr>\n",
       "    <tr>\n",
       "      <th>9</th>\n",
       "      <td>Cost/unit ($)</td>\n",
       "      <td>3.2</td>\n",
       "      <td>3.7</td>\n",
       "      <td>3.9</td>\n",
       "      <td>3.8</td>\n",
       "      <td>3.1</td>\n",
       "      <td>NaN</td>\n",
       "    </tr>\n",
       "    <tr>\n",
       "      <th>10</th>\n",
       "      <td>Price/unit</td>\n",
       "      <td>5.5</td>\n",
       "      <td>6.2</td>\n",
       "      <td>4.5</td>\n",
       "      <td>3.9</td>\n",
       "      <td>5.1</td>\n",
       "      <td>NaN</td>\n",
       "    </tr>\n",
       "    <tr>\n",
       "      <th>11</th>\n",
       "      <td>Demand ceiling</td>\n",
       "      <td>200</td>\n",
       "      <td>200</td>\n",
       "      <td>200</td>\n",
       "      <td>200</td>\n",
       "      <td>200</td>\n",
       "      <td>NaN</td>\n",
       "    </tr>\n",
       "  </tbody>\n",
       "</table>\n",
       "</div>"
      ],
      "text/plain": [
       "          Unnamed: 1 Unnamed: 2 Unnamed: 3 Unnamed: 4  Unnamed: 5 Unnamed: 6  \\\n",
       "0                NaN        NaN        NaN        NaN         NaN        NaN   \n",
       "1     Units Required      Apple     Banana  Chocolate  Elderberry        Fig   \n",
       "2             Mixing          5          6          7           3          4   \n",
       "3        Preparation          3          5          6           6          6   \n",
       "4           Blending          4          4          4           3          4   \n",
       "5          Packaging          2          3          3           5          5   \n",
       "6                NaN        NaN        NaN        NaN         NaN        NaN   \n",
       "7                NaN      Apple     Banana  Chocolate  Elderberry        Fig   \n",
       "8   Fixed Setup cost         60         78         91          40         40   \n",
       "9      Cost/unit ($)        3.2        3.7        3.9         3.8        3.1   \n",
       "10        Price/unit        5.5        6.2        4.5         3.9        5.1   \n",
       "11    Demand ceiling        200        200        200         200        200   \n",
       "\n",
       "         Unnamed: 7  \n",
       "0               NaN  \n",
       "1   Units Available  \n",
       "2              2700  \n",
       "3              2700  \n",
       "4              2500  \n",
       "5              2500  \n",
       "6               NaN  \n",
       "7               NaN  \n",
       "8               NaN  \n",
       "9               NaN  \n",
       "10              NaN  \n",
       "11              NaN  "
      ]
     },
     "execution_count": 2,
     "metadata": {},
     "output_type": "execute_result"
    }
   ],
   "source": [
    "flav_data = pd.read_excel('q2.xlsx', \n",
    "                         sheet_name = 'flavors', usecols = 'B:H')\n",
    "flav_data"
   ]
  },
  {
   "cell_type": "markdown",
   "metadata": {},
   "source": [
    "### Problem 1a"
   ]
  },
  {
   "cell_type": "markdown",
   "metadata": {},
   "source": [
    "How many of each product (flavor) should we produce in order to maximize profit? "
   ]
  },
  {
   "cell_type": "code",
   "execution_count": 3,
   "metadata": {},
   "outputs": [],
   "source": [
    "flav_indexes = ['Apple', 'Banana', 'Chocolate', 'Elderberry', 'Fig']"
   ]
  },
  {
   "cell_type": "code",
   "execution_count": 4,
   "metadata": {},
   "outputs": [
    {
     "data": {
      "text/html": [
       "<div>\n",
       "<style scoped>\n",
       "    .dataframe tbody tr th:only-of-type {\n",
       "        vertical-align: middle;\n",
       "    }\n",
       "\n",
       "    .dataframe tbody tr th {\n",
       "        vertical-align: top;\n",
       "    }\n",
       "\n",
       "    .dataframe thead th {\n",
       "        text-align: right;\n",
       "    }\n",
       "</style>\n",
       "<table border=\"1\" class=\"dataframe\">\n",
       "  <thead>\n",
       "    <tr style=\"text-align: right;\">\n",
       "      <th></th>\n",
       "      <th>Apple</th>\n",
       "      <th>Banana</th>\n",
       "      <th>Chocolate</th>\n",
       "      <th>Elderberry</th>\n",
       "      <th>Fig</th>\n",
       "    </tr>\n",
       "  </thead>\n",
       "  <tbody>\n",
       "    <tr>\n",
       "      <th>mixing</th>\n",
       "      <td>5</td>\n",
       "      <td>6</td>\n",
       "      <td>7</td>\n",
       "      <td>3</td>\n",
       "      <td>4</td>\n",
       "    </tr>\n",
       "    <tr>\n",
       "      <th>preparation</th>\n",
       "      <td>3</td>\n",
       "      <td>5</td>\n",
       "      <td>6</td>\n",
       "      <td>6</td>\n",
       "      <td>6</td>\n",
       "    </tr>\n",
       "    <tr>\n",
       "      <th>blending</th>\n",
       "      <td>4</td>\n",
       "      <td>4</td>\n",
       "      <td>4</td>\n",
       "      <td>3</td>\n",
       "      <td>4</td>\n",
       "    </tr>\n",
       "    <tr>\n",
       "      <th>packaging</th>\n",
       "      <td>2</td>\n",
       "      <td>3</td>\n",
       "      <td>3</td>\n",
       "      <td>5</td>\n",
       "      <td>5</td>\n",
       "    </tr>\n",
       "    <tr>\n",
       "      <th>fixed cost</th>\n",
       "      <td>60</td>\n",
       "      <td>78</td>\n",
       "      <td>91</td>\n",
       "      <td>40</td>\n",
       "      <td>40</td>\n",
       "    </tr>\n",
       "    <tr>\n",
       "      <th>cost/unit</th>\n",
       "      <td>3.2</td>\n",
       "      <td>3.7</td>\n",
       "      <td>3.9</td>\n",
       "      <td>3.8</td>\n",
       "      <td>3.1</td>\n",
       "    </tr>\n",
       "    <tr>\n",
       "      <th>price/unit</th>\n",
       "      <td>5.5</td>\n",
       "      <td>6.2</td>\n",
       "      <td>4.5</td>\n",
       "      <td>3.9</td>\n",
       "      <td>5.1</td>\n",
       "    </tr>\n",
       "    <tr>\n",
       "      <th>profit/unit</th>\n",
       "      <td>2.3</td>\n",
       "      <td>2.5</td>\n",
       "      <td>0.6</td>\n",
       "      <td>0.1</td>\n",
       "      <td>2.0</td>\n",
       "    </tr>\n",
       "  </tbody>\n",
       "</table>\n",
       "</div>"
      ],
      "text/plain": [
       "            Apple Banana Chocolate Elderberry  Fig\n",
       "mixing          5      6         7          3    4\n",
       "preparation     3      5         6          6    6\n",
       "blending        4      4         4          3    4\n",
       "packaging       2      3         3          5    5\n",
       "fixed cost     60     78        91         40   40\n",
       "cost/unit     3.2    3.7       3.9        3.8  3.1\n",
       "price/unit    5.5    6.2       4.5        3.9  5.1\n",
       "profit/unit   2.3    2.5       0.6        0.1  2.0"
      ]
     },
     "execution_count": 4,
     "metadata": {},
     "output_type": "execute_result"
    }
   ],
   "source": [
    "flav_coef = pd.DataFrame(flav_data.iloc[[2, 3, 4, 5, 8, 9, 10], 1:6])\n",
    "flav_coef.index = ['mixing', 'preparation', 'blending', 'packaging', 'fixed cost', 'cost/unit', 'price/unit']\n",
    "flav_coef.loc['profit/unit'] = flav_coef.loc['price/unit'] - flav_coef.loc['cost/unit']\n",
    "flav_coef.columns = flav_indexes\n",
    "flav_coef"
   ]
  },
  {
   "cell_type": "code",
   "execution_count": 5,
   "metadata": {},
   "outputs": [
    {
     "data": {
      "text/html": [
       "<div>\n",
       "<style scoped>\n",
       "    .dataframe tbody tr th:only-of-type {\n",
       "        vertical-align: middle;\n",
       "    }\n",
       "\n",
       "    .dataframe tbody tr th {\n",
       "        vertical-align: top;\n",
       "    }\n",
       "\n",
       "    .dataframe thead th {\n",
       "        text-align: right;\n",
       "    }\n",
       "</style>\n",
       "<table border=\"1\" class=\"dataframe\">\n",
       "  <thead>\n",
       "    <tr style=\"text-align: right;\">\n",
       "      <th></th>\n",
       "      <th>rhs</th>\n",
       "    </tr>\n",
       "  </thead>\n",
       "  <tbody>\n",
       "    <tr>\n",
       "      <th>mixing</th>\n",
       "      <td>2700</td>\n",
       "    </tr>\n",
       "    <tr>\n",
       "      <th>preparation</th>\n",
       "      <td>2700</td>\n",
       "    </tr>\n",
       "    <tr>\n",
       "      <th>blending</th>\n",
       "      <td>2500</td>\n",
       "    </tr>\n",
       "    <tr>\n",
       "      <th>packaging</th>\n",
       "      <td>2500</td>\n",
       "    </tr>\n",
       "    <tr>\n",
       "      <th>demand</th>\n",
       "      <td>200</td>\n",
       "    </tr>\n",
       "  </tbody>\n",
       "</table>\n",
       "</div>"
      ],
      "text/plain": [
       "              rhs\n",
       "mixing       2700\n",
       "preparation  2700\n",
       "blending     2500\n",
       "packaging    2500\n",
       "demand        200"
      ]
     },
     "execution_count": 5,
     "metadata": {},
     "output_type": "execute_result"
    }
   ],
   "source": [
    "flav_rhs = pd.DataFrame(flav_data.iloc[2:6, 6])\n",
    "flav_rhs.index = ['mixing', 'preparation', 'blending', 'packaging']\n",
    "flav_rhs.loc['demand'] = 200\n",
    "flav_rhs.columns = ['rhs']\n",
    "flav_rhs"
   ]
  },
  {
   "cell_type": "code",
   "execution_count": 6,
   "metadata": {},
   "outputs": [],
   "source": [
    "model = pe.ConcreteModel()"
   ]
  },
  {
   "cell_type": "code",
   "execution_count": 7,
   "metadata": {},
   "outputs": [],
   "source": [
    "model.x = pe.Var(flav_indexes, domain = pe.NonNegativeIntegers)\n",
    "model.y = pe.Var(flav_indexes, domain = pe.Binary)"
   ]
  },
  {
   "cell_type": "code",
   "execution_count": 8,
   "metadata": {},
   "outputs": [
    {
     "name": "stdout",
     "output_type": "stream",
     "text": [
      "x : Size=5, Index=x_index\n",
      "    Key        : Lower : Value : Upper : Fixed : Stale : Domain\n",
      "         Apple :     0 :  None :  None : False :  True : NonNegativeIntegers\n",
      "        Banana :     0 :  None :  None : False :  True : NonNegativeIntegers\n",
      "     Chocolate :     0 :  None :  None : False :  True : NonNegativeIntegers\n",
      "    Elderberry :     0 :  None :  None : False :  True : NonNegativeIntegers\n",
      "           Fig :     0 :  None :  None : False :  True : NonNegativeIntegers\n",
      "y : Size=5, Index=y_index\n",
      "    Key        : Lower : Value : Upper : Fixed : Stale : Domain\n",
      "         Apple :     0 :  None :     1 : False :  True : Binary\n",
      "        Banana :     0 :  None :     1 : False :  True : Binary\n",
      "     Chocolate :     0 :  None :     1 : False :  True : Binary\n",
      "    Elderberry :     0 :  None :     1 : False :  True : Binary\n",
      "           Fig :     0 :  None :     1 : False :  True : Binary\n"
     ]
    }
   ],
   "source": [
    "model.x.pprint()\n",
    "model.y.pprint()"
   ]
  },
  {
   "cell_type": "code",
   "execution_count": 9,
   "metadata": {},
   "outputs": [
    {
     "name": "stdout",
     "output_type": "stream",
     "text": [
      "obj : Size=1, Index=None, Active=True\n",
      "    Key  : Active : Sense    : Expression\n",
      "    None :   True : maximize : 2.3*x[Apple] + 2.5*x[Banana] + 0.6000000000000001*x[Chocolate] + 0.10000000000000009*x[Elderberry] + 1.9999999999999996*x[Fig] - (60*y[Apple] + 78*y[Banana] + 91*y[Chocolate] + 40*y[Elderberry] + 40*y[Fig])\n"
     ]
    }
   ],
   "source": [
    "model.obj = pe.Objective(expr = sum([flav_coef.loc['profit/unit', index]*model.x[index] for index in flav_indexes])\n",
    "                         - sum([flav_coef.loc['fixed cost', index]*model.y[index] for index in flav_indexes]),\n",
    "                         sense = pe.maximize)\n",
    "model.obj.pprint()"
   ]
  },
  {
   "cell_type": "code",
   "execution_count": 10,
   "metadata": {},
   "outputs": [],
   "source": [
    "model.cons_mix = pe.Constraint(expr=sum([flav_coef.loc['mixing', i]*model.x[i] \n",
    "                                                 for i in flav_indexes]) <= \n",
    "                                       flav_rhs.loc['mixing', 'rhs'])\n",
    "model.cons_prep = pe.Constraint(expr=sum([flav_coef.loc['preparation', i]*model.x[i] \n",
    "                                              for i in flav_indexes]) <= \n",
    "                                    flav_rhs.loc['preparation', 'rhs'])\n",
    "model.cons_blend = pe.Constraint(expr=sum([flav_coef.loc['blending', i]*model.x[i] \n",
    "                                               for i in flav_indexes]) <= \n",
    "                                     flav_rhs.loc['blending', 'rhs'])\n",
    "model.cons_pack = pe.Constraint(expr=sum([flav_coef.loc['packaging', i]*model.x[i] \n",
    "                                          for i in flav_indexes]) <= \n",
    "                                flav_rhs.loc['packaging', 'rhs'])\n",
    "model.cons_a_demand = pe.Constraint(expr=model.x['Apple'] <= flav_rhs.loc['demand','rhs'] * model.y['Apple'])\n",
    "model.cons_b_demand = pe.Constraint(expr=model.x['Banana'] <= flav_rhs.loc['demand','rhs'] * model.y['Banana'])\n",
    "model.cons_c_demand = pe.Constraint(expr=model.x['Chocolate'] <= flav_rhs.loc['demand','rhs'] * model.y['Chocolate'])\n",
    "model.cons_e_demand = pe.Constraint(expr=model.x['Elderberry'] <= flav_rhs.loc['demand','rhs'] * model.y['Elderberry'])\n",
    "model.cons_f_demand = pe.Constraint(expr=model.x['Fig'] <= flav_rhs.loc['demand','rhs'] * model.y['Fig'])"
   ]
  },
  {
   "cell_type": "code",
   "execution_count": 11,
   "metadata": {},
   "outputs": [
    {
     "name": "stdout",
     "output_type": "stream",
     "text": [
      "2 Set Declarations\n",
      "    x_index : Size=1, Index=None, Ordered=Insertion\n",
      "        Key  : Dimen : Domain : Size : Members\n",
      "        None :     1 :    Any :    5 : {'Apple', 'Banana', 'Chocolate', 'Elderberry', 'Fig'}\n",
      "    y_index : Size=1, Index=None, Ordered=Insertion\n",
      "        Key  : Dimen : Domain : Size : Members\n",
      "        None :     1 :    Any :    5 : {'Apple', 'Banana', 'Chocolate', 'Elderberry', 'Fig'}\n",
      "\n",
      "2 Var Declarations\n",
      "    x : Size=5, Index=x_index\n",
      "        Key        : Lower : Value : Upper : Fixed : Stale : Domain\n",
      "             Apple :     0 :  None :  None : False :  True : NonNegativeIntegers\n",
      "            Banana :     0 :  None :  None : False :  True : NonNegativeIntegers\n",
      "         Chocolate :     0 :  None :  None : False :  True : NonNegativeIntegers\n",
      "        Elderberry :     0 :  None :  None : False :  True : NonNegativeIntegers\n",
      "               Fig :     0 :  None :  None : False :  True : NonNegativeIntegers\n",
      "    y : Size=5, Index=y_index\n",
      "        Key        : Lower : Value : Upper : Fixed : Stale : Domain\n",
      "             Apple :     0 :  None :     1 : False :  True : Binary\n",
      "            Banana :     0 :  None :     1 : False :  True : Binary\n",
      "         Chocolate :     0 :  None :     1 : False :  True : Binary\n",
      "        Elderberry :     0 :  None :     1 : False :  True : Binary\n",
      "               Fig :     0 :  None :     1 : False :  True : Binary\n",
      "\n",
      "1 Objective Declarations\n",
      "    obj : Size=1, Index=None, Active=True\n",
      "        Key  : Active : Sense    : Expression\n",
      "        None :   True : maximize : 2.3*x[Apple] + 2.5*x[Banana] + 0.6000000000000001*x[Chocolate] + 0.10000000000000009*x[Elderberry] + 1.9999999999999996*x[Fig] - (60*y[Apple] + 78*y[Banana] + 91*y[Chocolate] + 40*y[Elderberry] + 40*y[Fig])\n",
      "\n",
      "9 Constraint Declarations\n",
      "    cons_a_demand : Size=1, Index=None, Active=True\n",
      "        Key  : Lower : Body                    : Upper : Active\n",
      "        None :  -Inf : x[Apple] - 200*y[Apple] :   0.0 :   True\n",
      "    cons_b_demand : Size=1, Index=None, Active=True\n",
      "        Key  : Lower : Body                      : Upper : Active\n",
      "        None :  -Inf : x[Banana] - 200*y[Banana] :   0.0 :   True\n",
      "    cons_blend : Size=1, Index=None, Active=True\n",
      "        Key  : Lower : Body                                                                   : Upper  : Active\n",
      "        None :  -Inf : 4*x[Apple] + 4*x[Banana] + 4*x[Chocolate] + 3*x[Elderberry] + 4*x[Fig] : 2500.0 :   True\n",
      "    cons_c_demand : Size=1, Index=None, Active=True\n",
      "        Key  : Lower : Body                            : Upper : Active\n",
      "        None :  -Inf : x[Chocolate] - 200*y[Chocolate] :   0.0 :   True\n",
      "    cons_e_demand : Size=1, Index=None, Active=True\n",
      "        Key  : Lower : Body                              : Upper : Active\n",
      "        None :  -Inf : x[Elderberry] - 200*y[Elderberry] :   0.0 :   True\n",
      "    cons_f_demand : Size=1, Index=None, Active=True\n",
      "        Key  : Lower : Body                : Upper : Active\n",
      "        None :  -Inf : x[Fig] - 200*y[Fig] :   0.0 :   True\n",
      "    cons_mix : Size=1, Index=None, Active=True\n",
      "        Key  : Lower : Body                                                                   : Upper  : Active\n",
      "        None :  -Inf : 5*x[Apple] + 6*x[Banana] + 7*x[Chocolate] + 3*x[Elderberry] + 4*x[Fig] : 2700.0 :   True\n",
      "    cons_pack : Size=1, Index=None, Active=True\n",
      "        Key  : Lower : Body                                                                   : Upper  : Active\n",
      "        None :  -Inf : 2*x[Apple] + 3*x[Banana] + 3*x[Chocolate] + 5*x[Elderberry] + 5*x[Fig] : 2500.0 :   True\n",
      "    cons_prep : Size=1, Index=None, Active=True\n",
      "        Key  : Lower : Body                                                                   : Upper  : Active\n",
      "        None :  -Inf : 3*x[Apple] + 5*x[Banana] + 6*x[Chocolate] + 6*x[Elderberry] + 6*x[Fig] : 2700.0 :   True\n",
      "\n",
      "14 Declarations: x_index x y_index y obj cons_mix cons_prep cons_blend cons_pack cons_a_demand cons_b_demand cons_c_demand cons_e_demand cons_f_demand\n"
     ]
    }
   ],
   "source": [
    "model.pprint()"
   ]
  },
  {
   "cell_type": "code",
   "execution_count": 12,
   "metadata": {},
   "outputs": [
    {
     "name": "stdout",
     "output_type": "stream",
     "text": [
      "GLPSOL--GLPK LP/MIP Solver 5.0\n",
      "Parameter(s) specified in the command line:\n",
      " --write /var/folders/rq/w3zpq_q96hlc_9t1x4fvjxtc0000gn/T/tmpb7i7i_2v.glpk.raw\n",
      " --wglp /var/folders/rq/w3zpq_q96hlc_9t1x4fvjxtc0000gn/T/tmp8zy3jmpa.glpk.glp\n",
      " --cpxlp /var/folders/rq/w3zpq_q96hlc_9t1x4fvjxtc0000gn/T/tmpb5c4k64f.pyomo.lp\n",
      "Reading problem data from '/var/folders/rq/w3zpq_q96hlc_9t1x4fvjxtc0000gn/T/tmpb5c4k64f.pyomo.lp'...\n",
      "/var/folders/rq/w3zpq_q96hlc_9t1x4fvjxtc0000gn/T/tmpb5c4k64f.pyomo.lp:96: warning: lower bound of variable 'x6' redefined\n",
      "/var/folders/rq/w3zpq_q96hlc_9t1x4fvjxtc0000gn/T/tmpb5c4k64f.pyomo.lp:96: warning: upper bound of variable 'x6' redefined\n",
      "10 rows, 11 columns, 31 non-zeros\n",
      "10 integer variables, 5 of which are binary\n",
      "101 lines were read\n",
      "Writing problem data to '/var/folders/rq/w3zpq_q96hlc_9t1x4fvjxtc0000gn/T/tmp8zy3jmpa.glpk.glp'...\n",
      "81 lines were written\n",
      "GLPK Integer Optimizer 5.0\n",
      "10 rows, 11 columns, 31 non-zeros\n",
      "10 integer variables, 5 of which are binary\n",
      "Preprocessing...\n",
      "9 rows, 10 columns, 30 non-zeros\n",
      "10 integer variables, 5 of which are binary\n",
      "Scaling...\n",
      " A: min|aij| =  1.000e+00  max|aij| =  2.000e+02  ratio =  2.000e+02\n",
      "GM: min|aij| =  6.999e-01  max|aij| =  1.429e+00  ratio =  2.041e+00\n",
      "EQ: min|aij| =  4.899e-01  max|aij| =  1.000e+00  ratio =  2.041e+00\n",
      "2N: min|aij| =  2.500e-01  max|aij| =  8.750e-01  ratio =  3.500e+00\n",
      "Constructing initial basis...\n",
      "Size of triangular part is 9\n",
      "Solving LP relaxation...\n",
      "GLPK Simplex Optimizer 5.0\n",
      "9 rows, 10 columns, 30 non-zeros\n",
      "*     0: obj =  -0.000000000e+00 inf =   0.000e+00 (5)\n",
      "*     7: obj =   1.076500000e+03 inf =   0.000e+00 (0)\n",
      "OPTIMAL LP SOLUTION FOUND\n",
      "Integer optimization begins...\n",
      "Long-step dual simplex will be used\n",
      "+     7: mip =     not found yet <=              +inf        (1; 0)\n",
      "Solution found by heuristic: 1057\n",
      "+     8: mip =   1.057000000e+03 <=     tree is empty   0.0% (0; 1)\n",
      "INTEGER OPTIMAL SOLUTION FOUND\n",
      "Time used:   0.0 secs\n",
      "Memory used: 0.1 Mb (65492 bytes)\n",
      "Writing MIP solution to '/var/folders/rq/w3zpq_q96hlc_9t1x4fvjxtc0000gn/T/tmpb7i7i_2v.glpk.raw'...\n",
      "30 lines were written\n"
     ]
    }
   ],
   "source": [
    "opt = pe.SolverFactory('glpk')\n",
    "success = opt.solve(model, tee=True)"
   ]
  },
  {
   "cell_type": "code",
   "execution_count": 13,
   "metadata": {},
   "outputs": [
    {
     "name": "stdout",
     "output_type": "stream",
     "text": [
      "optimal objective value maximum profit = $1057.00\n"
     ]
    },
    {
     "data": {
      "text/html": [
       "<div>\n",
       "<style scoped>\n",
       "    .dataframe tbody tr th:only-of-type {\n",
       "        vertical-align: middle;\n",
       "    }\n",
       "\n",
       "    .dataframe tbody tr th {\n",
       "        vertical-align: top;\n",
       "    }\n",
       "\n",
       "    .dataframe thead th {\n",
       "        text-align: right;\n",
       "    }\n",
       "</style>\n",
       "<table border=\"1\" class=\"dataframe\">\n",
       "  <thead>\n",
       "    <tr style=\"text-align: right;\">\n",
       "      <th></th>\n",
       "      <th>DV</th>\n",
       "      <th>Value</th>\n",
       "    </tr>\n",
       "  </thead>\n",
       "  <tbody>\n",
       "    <tr>\n",
       "      <th>0</th>\n",
       "      <td>Apple</td>\n",
       "      <td>200.0</td>\n",
       "    </tr>\n",
       "    <tr>\n",
       "      <th>1</th>\n",
       "      <td>Banana</td>\n",
       "      <td>150.0</td>\n",
       "    </tr>\n",
       "    <tr>\n",
       "      <th>2</th>\n",
       "      <td>Chocolate</td>\n",
       "      <td>0.0</td>\n",
       "    </tr>\n",
       "    <tr>\n",
       "      <th>3</th>\n",
       "      <td>Elderberry</td>\n",
       "      <td>0.0</td>\n",
       "    </tr>\n",
       "    <tr>\n",
       "      <th>4</th>\n",
       "      <td>Fig</td>\n",
       "      <td>200.0</td>\n",
       "    </tr>\n",
       "  </tbody>\n",
       "</table>\n",
       "</div>"
      ],
      "text/plain": [
       "           DV  Value\n",
       "0       Apple  200.0\n",
       "1      Banana  150.0\n",
       "2   Chocolate    0.0\n",
       "3  Elderberry    0.0\n",
       "4         Fig  200.0"
      ]
     },
     "execution_count": 13,
     "metadata": {},
     "output_type": "execute_result"
    }
   ],
   "source": [
    "obj_val = model.obj.expr()\n",
    "print(f'optimal objective value maximum profit = ${obj_val:.2f}')\n",
    "\n",
    "flav_DV = []  # create an empty list to store decision variables\n",
    "for index in flav_indexes:\n",
    "    flav_DV.append(round(model.x[index].value, 3))\n",
    "pd.DataFrame({'DV':flav_indexes,\n",
    "             'Value':flav_DV})"
   ]
  },
  {
   "cell_type": "markdown",
   "metadata": {},
   "source": [
    "### Problem 1b"
   ]
  },
  {
   "cell_type": "markdown",
   "metadata": {},
   "source": [
    "### Import Modules<a id=2></a>"
   ]
  },
  {
   "cell_type": "markdown",
   "metadata": {},
   "source": [
    "Suppose we need at least one of Chocolate or Elderberry to be produced. How many of each product should we produce in order to maximize profit?"
   ]
  },
  {
   "cell_type": "code",
   "execution_count": 14,
   "metadata": {},
   "outputs": [],
   "source": [
    "model.cons_prod = pe.Constraint(expr=model.x['Chocolate'] + model.x['Elderberry'] >= 1)"
   ]
  },
  {
   "cell_type": "code",
   "execution_count": 15,
   "metadata": {},
   "outputs": [
    {
     "name": "stdout",
     "output_type": "stream",
     "text": [
      "GLPSOL--GLPK LP/MIP Solver 5.0\n",
      "Parameter(s) specified in the command line:\n",
      " --write /var/folders/rq/w3zpq_q96hlc_9t1x4fvjxtc0000gn/T/tmp6z52wn74.glpk.raw\n",
      " --wglp /var/folders/rq/w3zpq_q96hlc_9t1x4fvjxtc0000gn/T/tmpaq759uve.glpk.glp\n",
      " --cpxlp /var/folders/rq/w3zpq_q96hlc_9t1x4fvjxtc0000gn/T/tmp_fr3_ghw.pyomo.lp\n",
      "Reading problem data from '/var/folders/rq/w3zpq_q96hlc_9t1x4fvjxtc0000gn/T/tmp_fr3_ghw.pyomo.lp'...\n",
      "/var/folders/rq/w3zpq_q96hlc_9t1x4fvjxtc0000gn/T/tmp_fr3_ghw.pyomo.lp:101: warning: lower bound of variable 'x6' redefined\n",
      "/var/folders/rq/w3zpq_q96hlc_9t1x4fvjxtc0000gn/T/tmp_fr3_ghw.pyomo.lp:101: warning: upper bound of variable 'x6' redefined\n",
      "11 rows, 11 columns, 33 non-zeros\n",
      "10 integer variables, 5 of which are binary\n",
      "106 lines were read\n",
      "Writing problem data to '/var/folders/rq/w3zpq_q96hlc_9t1x4fvjxtc0000gn/T/tmpaq759uve.glpk.glp'...\n",
      "85 lines were written\n",
      "GLPK Integer Optimizer 5.0\n",
      "11 rows, 11 columns, 33 non-zeros\n",
      "10 integer variables, 5 of which are binary\n",
      "Preprocessing...\n",
      "10 rows, 10 columns, 32 non-zeros\n",
      "10 integer variables, 5 of which are binary\n",
      "Scaling...\n",
      " A: min|aij| =  1.000e+00  max|aij| =  2.000e+02  ratio =  2.000e+02\n",
      "GM: min|aij| =  6.999e-01  max|aij| =  1.429e+00  ratio =  2.041e+00\n",
      "EQ: min|aij| =  4.899e-01  max|aij| =  1.000e+00  ratio =  2.041e+00\n",
      "2N: min|aij| =  2.500e-01  max|aij| =  1.000e+00  ratio =  4.000e+00\n",
      "Constructing initial basis...\n",
      "Size of triangular part is 10\n",
      "Solving LP relaxation...\n",
      "GLPK Simplex Optimizer 5.0\n",
      "10 rows, 10 columns, 32 non-zeros\n",
      "      0: obj =  -0.000000000e+00 inf =   4.000e+00 (1)\n",
      "      3: obj =   1.450000000e-01 inf =   0.000e+00 (0)\n",
      "*    11: obj =   1.075345000e+03 inf =   0.000e+00 (0)\n",
      "OPTIMAL LP SOLUTION FOUND\n",
      "Integer optimization begins...\n",
      "Long-step dual simplex will be used\n",
      "+    11: mip =     not found yet <=              +inf        (1; 0)\n",
      "Solution found by heuristic: 962.6\n",
      "Solution found by heuristic: 1014.8\n",
      "Solution found by heuristic: 1015.1\n",
      "+    29: >>>>>   1.015300000e+03 <=   1.015416667e+03 < 0.1% (2; 13)\n",
      "+    30: mip =   1.015300000e+03 <=     tree is empty   0.0% (0; 21)\n",
      "INTEGER OPTIMAL SOLUTION FOUND\n",
      "Time used:   0.0 secs\n",
      "Memory used: 0.1 Mb (68844 bytes)\n",
      "Writing MIP solution to '/var/folders/rq/w3zpq_q96hlc_9t1x4fvjxtc0000gn/T/tmp6z52wn74.glpk.raw'...\n",
      "31 lines were written\n"
     ]
    }
   ],
   "source": [
    "opt = pe.SolverFactory('glpk')\n",
    "success = opt.solve(model, tee=True)"
   ]
  },
  {
   "cell_type": "code",
   "execution_count": 16,
   "metadata": {},
   "outputs": [
    {
     "name": "stdout",
     "output_type": "stream",
     "text": [
      "optimal objective value maximum profit = $1015.30\n"
     ]
    },
    {
     "data": {
      "text/html": [
       "<div>\n",
       "<style scoped>\n",
       "    .dataframe tbody tr th:only-of-type {\n",
       "        vertical-align: middle;\n",
       "    }\n",
       "\n",
       "    .dataframe tbody tr th {\n",
       "        vertical-align: top;\n",
       "    }\n",
       "\n",
       "    .dataframe thead th {\n",
       "        text-align: right;\n",
       "    }\n",
       "</style>\n",
       "<table border=\"1\" class=\"dataframe\">\n",
       "  <thead>\n",
       "    <tr style=\"text-align: right;\">\n",
       "      <th></th>\n",
       "      <th>DV</th>\n",
       "      <th>Value</th>\n",
       "    </tr>\n",
       "  </thead>\n",
       "  <tbody>\n",
       "    <tr>\n",
       "      <th>0</th>\n",
       "      <td>Apple</td>\n",
       "      <td>199.0</td>\n",
       "    </tr>\n",
       "    <tr>\n",
       "      <th>1</th>\n",
       "      <td>Banana</td>\n",
       "      <td>151.0</td>\n",
       "    </tr>\n",
       "    <tr>\n",
       "      <th>2</th>\n",
       "      <td>Chocolate</td>\n",
       "      <td>0.0</td>\n",
       "    </tr>\n",
       "    <tr>\n",
       "      <th>3</th>\n",
       "      <td>Elderberry</td>\n",
       "      <td>1.0</td>\n",
       "    </tr>\n",
       "    <tr>\n",
       "      <th>4</th>\n",
       "      <td>Fig</td>\n",
       "      <td>199.0</td>\n",
       "    </tr>\n",
       "  </tbody>\n",
       "</table>\n",
       "</div>"
      ],
      "text/plain": [
       "           DV  Value\n",
       "0       Apple  199.0\n",
       "1      Banana  151.0\n",
       "2   Chocolate    0.0\n",
       "3  Elderberry    1.0\n",
       "4         Fig  199.0"
      ]
     },
     "execution_count": 16,
     "metadata": {},
     "output_type": "execute_result"
    }
   ],
   "source": [
    "obj_val = model.obj.expr()\n",
    "print(f'optimal objective value maximum profit = ${obj_val:.2f}')\n",
    "\n",
    "flav_DV = []  # create an empty list to store decision variables\n",
    "for index in flav_indexes:\n",
    "    flav_DV.append(round(model.x[index].value, 3))\n",
    "pd.DataFrame({'DV':flav_indexes,\n",
    "             'Value':flav_DV})"
   ]
  },
  {
   "cell_type": "markdown",
   "metadata": {},
   "source": [
    "## Problem Two: Optimal Placement"
   ]
  },
  {
   "cell_type": "markdown",
   "metadata": {},
   "source": [
    "A local coffee chain has fifteen shops located throughout the metro area. The $(x, y)$ locations are located in the `locations` tab of `quiz-2.xlsx`. Management wants to re-located their roasting facility to a more central location in the city. Use $D_k = ((x - x_k)^2 + (y - y_k)^2)^{0.5}$ as the distance metric between each pair of points."
   ]
  },
  {
   "cell_type": "markdown",
   "metadata": {},
   "source": [
    "### Problem 2a"
   ]
  },
  {
   "cell_type": "markdown",
   "metadata": {},
   "source": [
    "Use `seaborn` to plot the locations."
   ]
  },
  {
   "cell_type": "code",
   "execution_count": 17,
   "metadata": {},
   "outputs": [],
   "source": [
    "loc_data = pd.read_excel('q2.xlsx', sheet_name = 'locations')"
   ]
  },
  {
   "cell_type": "code",
   "execution_count": 18,
   "metadata": {},
   "outputs": [
    {
     "data": {
      "text/html": [
       "<div>\n",
       "<style scoped>\n",
       "    .dataframe tbody tr th:only-of-type {\n",
       "        vertical-align: middle;\n",
       "    }\n",
       "\n",
       "    .dataframe tbody tr th {\n",
       "        vertical-align: top;\n",
       "    }\n",
       "\n",
       "    .dataframe thead th {\n",
       "        text-align: right;\n",
       "    }\n",
       "</style>\n",
       "<table border=\"1\" class=\"dataframe\">\n",
       "  <thead>\n",
       "    <tr style=\"text-align: right;\">\n",
       "      <th></th>\n",
       "      <th>x</th>\n",
       "      <th>y</th>\n",
       "    </tr>\n",
       "  </thead>\n",
       "  <tbody>\n",
       "    <tr>\n",
       "      <th>0</th>\n",
       "      <td>5</td>\n",
       "      <td>29</td>\n",
       "    </tr>\n",
       "    <tr>\n",
       "      <th>1</th>\n",
       "      <td>9</td>\n",
       "      <td>50</td>\n",
       "    </tr>\n",
       "    <tr>\n",
       "      <th>2</th>\n",
       "      <td>15</td>\n",
       "      <td>31</td>\n",
       "    </tr>\n",
       "    <tr>\n",
       "      <th>3</th>\n",
       "      <td>21</td>\n",
       "      <td>44</td>\n",
       "    </tr>\n",
       "    <tr>\n",
       "      <th>4</th>\n",
       "      <td>26</td>\n",
       "      <td>68</td>\n",
       "    </tr>\n",
       "    <tr>\n",
       "      <th>5</th>\n",
       "      <td>59</td>\n",
       "      <td>79</td>\n",
       "    </tr>\n",
       "    <tr>\n",
       "      <th>6</th>\n",
       "      <td>39</td>\n",
       "      <td>65</td>\n",
       "    </tr>\n",
       "    <tr>\n",
       "      <th>7</th>\n",
       "      <td>40</td>\n",
       "      <td>40</td>\n",
       "    </tr>\n",
       "    <tr>\n",
       "      <th>8</th>\n",
       "      <td>41</td>\n",
       "      <td>54</td>\n",
       "    </tr>\n",
       "    <tr>\n",
       "      <th>9</th>\n",
       "      <td>49</td>\n",
       "      <td>59</td>\n",
       "    </tr>\n",
       "    <tr>\n",
       "      <th>10</th>\n",
       "      <td>63</td>\n",
       "      <td>42</td>\n",
       "    </tr>\n",
       "    <tr>\n",
       "      <th>11</th>\n",
       "      <td>72</td>\n",
       "      <td>58</td>\n",
       "    </tr>\n",
       "    <tr>\n",
       "      <th>12</th>\n",
       "      <td>81</td>\n",
       "      <td>76</td>\n",
       "    </tr>\n",
       "    <tr>\n",
       "      <th>13</th>\n",
       "      <td>84</td>\n",
       "      <td>95</td>\n",
       "    </tr>\n",
       "    <tr>\n",
       "      <th>14</th>\n",
       "      <td>95</td>\n",
       "      <td>93</td>\n",
       "    </tr>\n",
       "    <tr>\n",
       "      <th>15</th>\n",
       "      <td>98</td>\n",
       "      <td>73</td>\n",
       "    </tr>\n",
       "  </tbody>\n",
       "</table>\n",
       "</div>"
      ],
      "text/plain": [
       "     x   y\n",
       "0    5  29\n",
       "1    9  50\n",
       "2   15  31\n",
       "3   21  44\n",
       "4   26  68\n",
       "5   59  79\n",
       "6   39  65\n",
       "7   40  40\n",
       "8   41  54\n",
       "9   49  59\n",
       "10  63  42\n",
       "11  72  58\n",
       "12  81  76\n",
       "13  84  95\n",
       "14  95  93\n",
       "15  98  73"
      ]
     },
     "execution_count": 18,
     "metadata": {},
     "output_type": "execute_result"
    }
   ],
   "source": [
    "xydf = loc_data[['x', 'y']].copy()\n",
    "xydf"
   ]
  },
  {
   "cell_type": "code",
   "execution_count": 19,
   "metadata": {},
   "outputs": [
    {
     "data": {
      "image/png": "[encoded data removed]",
      "text/plain": [
       "<Figure size 1200x600 with 1 Axes>"
      ]
     },
     "metadata": {},
     "output_type": "display_data"
    }
   ],
   "source": [
    "plt.figure(figsize = (12,6))\n",
    "sns.scatterplot(x = 'x', y = 'y', data = xydf)\n",
    "plt.grid()\n",
    "plt.show()"
   ]
  },
  {
   "cell_type": "markdown",
   "metadata": {},
   "source": [
    "### Problem 2b"
   ]
  },
  {
   "cell_type": "markdown",
   "metadata": {},
   "source": [
    "Identify the optimal location of the roasting facility by minimizing the total distance from the new facility to each of the fifteen shops. "
   ]
  },
  {
   "cell_type": "code",
   "execution_count": 20,
   "metadata": {},
   "outputs": [
    {
     "name": "stdout",
     "output_type": "stream",
     "text": [
      "2 Var Declarations\n",
      "    x : Size=1, Index=None\n",
      "        Key  : Lower : Value : Upper : Fixed : Stale : Domain\n",
      "        None :     0 :    50 :  None : False : False : NonNegativeReals\n",
      "    y : Size=1, Index=None\n",
      "        Key  : Lower : Value : Upper : Fixed : Stale : Domain\n",
      "        None :     0 :    70 :  None : False : False : NonNegativeReals\n",
      "\n",
      "1 Objective Declarations\n",
      "    obj : Size=1, Index=None, Active=True\n",
      "        Key  : Active : Sense    : Expression\n",
      "        None :   True : minimize : ((5 - x)**2 + (29 - y)**2)**0.5 + ((9 - x)**2 + (50 - y)**2)**0.5 + ((15 - x)**2 + (31 - y)**2)**0.5 + ((21 - x)**2 + (44 - y)**2)**0.5 + ((26 - x)**2 + (68 - y)**2)**0.5 + ((59 - x)**2 + (79 - y)**2)**0.5 + ((39 - x)**2 + (65 - y)**2)**0.5 + ((40 - x)**2 + (40 - y)**2)**0.5 + ((41 - x)**2 + (54 - y)**2)**0.5 + ((49 - x)**2 + (59 - y)**2)**0.5 + ((63 - x)**2 + (42 - y)**2)**0.5 + ((72 - x)**2 + (58 - y)**2)**0.5 + ((81 - x)**2 + (76 - y)**2)**0.5 + ((84 - x)**2 + (95 - y)**2)**0.5 + ((95 - x)**2 + (93 - y)**2)**0.5 + ((98 - x)**2 + (73 - y)**2)**0.5\n",
      "\n",
      "3 Declarations: x y obj\n"
     ]
    }
   ],
   "source": [
    "model = pe.ConcreteModel()\n",
    "\n",
    "model.x = pe.Var(domain=pe.NonNegativeReals)\n",
    "model.y = pe.Var(domain=pe.NonNegativeReals)\n",
    "model.x = 50\n",
    "model.y = 70\n",
    "\n",
    "data_rows = range(0,16)\n",
    "model.obj = pe.Objective(expr=sum((((xydf.loc[row, 'x'] - model.x) ** 2) + (xydf.loc[row, 'y'] - model.y) ** 2) ** 0.5\n",
    "                                  for row in data_rows), sense=pe.minimize)\n",
    "model.pprint()"
   ]
  },
  {
   "cell_type": "code",
   "execution_count": 21,
   "metadata": {},
   "outputs": [
    {
     "name": "stdout",
     "output_type": "stream",
     "text": [
      "ok optimal\n"
     ]
    }
   ],
   "source": [
    "opt = pe.SolverFactory('ipopt')\n",
    "result = opt.solve(model)\n",
    "print(result.solver.status, result.solver.termination_condition)"
   ]
  },
  {
   "cell_type": "code",
   "execution_count": 22,
   "metadata": {},
   "outputs": [
    {
     "name": "stdout",
     "output_type": "stream",
     "text": [
      "The Optimal Values\n",
      "The optimal objective is: 498.84\n",
      "The optimal x value is: 48.28\n",
      "The optimal y value is: 58.79\n"
     ]
    }
   ],
   "source": [
    "print('The Optimal Values')\n",
    "obj_val = model.obj.expr()\n",
    "x_val = model.x.value\n",
    "y_val = model.y.value\n",
    "print(f'The optimal objective is: {obj_val:.2f}')\n",
    "print(f'The optimal x value is: {x_val:.2f}')\n",
    "print(f'The optimal y value is: {y_val:.2f}')"
   ]
  },
  {
   "cell_type": "markdown",
   "metadata": {},
   "source": [
    "### Problem 2c"
   ]
  },
  {
   "cell_type": "markdown",
   "metadata": {},
   "source": [
    "Using `seaborn`, add the new location to the plot from Problem 2a. "
   ]
  },
  {
   "cell_type": "code",
   "execution_count": 23,
   "metadata": {},
   "outputs": [],
   "source": [
    "point_df = pd.DataFrame({'x': [x_val], 'y': [y_val]})"
   ]
  },
  {
   "cell_type": "code",
   "execution_count": 24,
   "metadata": {},
   "outputs": [
    {
     "data": {
      "image/png": "[encoded data removed]",
      "text/plain": [
       "<Figure size 1200x600 with 1 Axes>"
      ]
     },
     "metadata": {},
     "output_type": "display_data"
    }
   ],
   "source": [
    "plt.figure(figsize=(12, 6))\n",
    "sns.scatterplot(x = 'x', y = 'y', data = xydf)\n",
    "sns.scatterplot(x = 'x', y = 'y', data = point_df, color = 'red')\n",
    "plt.xlabel('X Location')\n",
    "plt.ylabel('Y Location')\n",
    "plt.title('X and Y Locations')\n",
    "plt.show()"
   ]
  }
 ],
 "metadata": {
  "kernelspec": {
   "display_name": "Python 3 (ipykernel)",
   "language": "python",
   "name": "python3"
  },
  "language_info": {
   "codemirror_mode": {
    "name": "ipython",
    "version": 3
   },
   "file_extension": ".py",
   "mimetype": "text/x-python",
   "name": "python",
   "nbconvert_exporter": "python",
   "pygments_lexer": "ipython3",
   "version": "3.9.13"
  }
 },
 "nbformat": 4,
 "nbformat_minor": 4
}
