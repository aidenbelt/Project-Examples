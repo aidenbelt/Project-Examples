{
 "cells": [
  {
   "cell_type": "markdown",
   "metadata": {},
   "source": [
    "# Quiz One"
   ]
  },
  {
   "cell_type": "markdown",
   "metadata": {},
   "source": [
    "## Instructions:\n",
    "Solve all problems in python to the best of your ability. You are welcome to use Excel in order to check your answers, but you must submit a python notebook exported as an html file to receive full credit. Furthermore, feel free to collaborate with your fellow classmates. You need to turn in your own copy of the notebook. All figures must contain your name in the title in order to receive full credit. "
   ]
  },
  {
   "cell_type": "markdown",
   "metadata": {},
   "source": [
    "### Due Date: Wednesday, February 15 2023 at 11.59pm"
   ]
  },
  {
   "cell_type": "markdown",
   "metadata": {},
   "source": [
    "# Urbaczewski's Ski Boots<a id=1></a>"
   ]
  },
  {
   "cell_type": "markdown",
   "metadata": {},
   "source": [
    "We are revisiting a transshipment problem similar to one that we solved in the second class of Week 2. In this problem, Elmore's Ski Boots is the manufacturer of the finest ski boots available. There are three plants that manufacture the boots, two distribution centers, and five warehouses. We need to ship the boots to the warehouses at a minimum cost satisfying the constraints outlined in the spreadsheet. Namely, each plant can only produce so much product, the amount of boots passing through the distribution centers has to remain constant (in has to equal out), and each warehouse has a minimum amount that they need in order to satisfy demand. The data are given in the Excel file `quiz-1.xlsx`."
   ]
  },
  {
   "cell_type": "markdown",
   "metadata": {
    "tags": []
   },
   "source": [
    "## Solve the following problems. \n",
    "1. What is the minimum cost to ship these boots from our plants to the warehouses while satisfying all of our constraints? \n",
    "2. What are the final values of the decision variables?\n",
    "3. Is there any slack in the system? If so, what is the amount/route that shows slack?\n",
    "4. Suppose management tells us that the per unit shipping cost from Plant P3 to Distribution Center D1 is going to change to \\$.60. How do your answers to 1. and 2. change? \n",
    "5. Show the values of the decision variables as barcharts using `seaborn`. Create a separate plot for Plants to Distribution Centers (colored by DCs) and another for DCs to Warehouses (colored by WHs).\n",
    "6. Create a sequence of shipping costs (P3 to D1) from 0.5 to 0.7 in one cent increments (21 unique values). \n",
    "\n",
    "    a. Make a plot showing how the overall shipping costs change as a function of this sequence.\n",
    "    \n",
    "    b. Make two plots showing: (1) the amount of boots shipped between Plant P3 and the two distribution centers and (2) the amount of boots shipped between each distribution center and the five warehouses. The lines be shown using different colors. \n",
    "    \n",
    "7. Finally, let's investigate how changing the demand on the third warehouse changes the final value of the objective function. Create a sequence of demands from 4700 to 7200 by 100 units. Plots those demands on the x axis and the final minimum cost on the y."
   ]
  },
  {
   "cell_type": "markdown",
   "metadata": {},
   "source": [
    "##### [Back to Top](#Top)"
   ]
  },
  {
   "cell_type": "markdown",
   "metadata": {
    "tags": []
   },
   "source": [
    "### Import Modules<a id=2></a>"
   ]
  },
  {
   "cell_type": "code",
   "execution_count": 1,
   "metadata": {},
   "outputs": [],
   "source": [
    "import pandas as pd \n",
    "import pyomo.environ as pe\n",
    "import matplotlib.pyplot as plt\n",
    "import seaborn as sns"
   ]
  },
  {
   "cell_type": "markdown",
   "metadata": {
    "tags": []
   },
   "source": [
    "### Read and convert data"
   ]
  },
  {
   "cell_type": "code",
   "execution_count": 2,
   "metadata": {},
   "outputs": [
    {
     "data": {
      "text/plain": [
       "[\"Urbaczewski's Ski Boots\", 'Coef_1', 'Coef_2', 'RHS']"
      ]
     },
     "execution_count": 2,
     "metadata": {},
     "output_type": "execute_result"
    }
   ],
   "source": [
    "xlsx_file = pd.ExcelFile('quiz-1-excel.xlsx')\n",
    "xlsx_file.sheet_names"
   ]
  },
  {
   "cell_type": "code",
   "execution_count": 3,
   "metadata": {
    "tags": []
   },
   "outputs": [],
   "source": [
    "from IPython.display import Markdown, display\n",
    "def printmd(string):\n",
    "    display(Markdown(string))"
   ]
  },
  {
   "cell_type": "markdown",
   "metadata": {
    "tags": []
   },
   "source": [
    "#### Problem 1\n",
    "1. What is the minimum cost to ship these boots from our plants to the warehouses while satisfying all of our constraints? "
   ]
  },
  {
   "cell_type": "code",
   "execution_count": 4,
   "metadata": {},
   "outputs": [],
   "source": [
    "main_page = pd.read_excel(\"quiz-1-excel.xlsx\", sheet_name=\"Urbaczewski's Ski Boots\")\n",
    "coef_1_page = pd.read_excel(\"quiz-1-excel.xlsx\", sheet_name=\"Coef_1\")\n",
    "coef_2_page = pd.read_excel(\"quiz-1-excel.xlsx\", sheet_name = \"Coef_2\")\n",
    "rhs_page = pd.read_excel(\"quiz-1-excel.xlsx\", sheet_name=\"RHS\")"
   ]
  },
  {
   "cell_type": "code",
   "execution_count": 5,
   "metadata": {},
   "outputs": [
    {
     "data": {
      "text/html": [
       "<div>\n",
       "<style scoped>\n",
       "    .dataframe tbody tr th:only-of-type {\n",
       "        vertical-align: middle;\n",
       "    }\n",
       "\n",
       "    .dataframe tbody tr th {\n",
       "        vertical-align: top;\n",
       "    }\n",
       "\n",
       "    .dataframe thead th {\n",
       "        text-align: right;\n",
       "    }\n",
       "</style>\n",
       "<table border=\"1\" class=\"dataframe\">\n",
       "  <thead>\n",
       "    <tr style=\"text-align: right;\">\n",
       "      <th></th>\n",
       "      <th>D1</th>\n",
       "      <th>D2</th>\n",
       "    </tr>\n",
       "    <tr>\n",
       "      <th>(From) Plant</th>\n",
       "      <th></th>\n",
       "      <th></th>\n",
       "    </tr>\n",
       "  </thead>\n",
       "  <tbody>\n",
       "    <tr>\n",
       "      <th>P1</th>\n",
       "      <td>0.50</td>\n",
       "      <td>0.60</td>\n",
       "    </tr>\n",
       "    <tr>\n",
       "      <th>P2</th>\n",
       "      <td>0.65</td>\n",
       "      <td>0.65</td>\n",
       "    </tr>\n",
       "    <tr>\n",
       "      <th>P3</th>\n",
       "      <td>0.63</td>\n",
       "      <td>0.78</td>\n",
       "    </tr>\n",
       "  </tbody>\n",
       "</table>\n",
       "</div>"
      ],
      "text/plain": [
       "                D1    D2\n",
       "(From) Plant            \n",
       "P1            0.50  0.60\n",
       "P2            0.65  0.65\n",
       "P3            0.63  0.78"
      ]
     },
     "execution_count": 5,
     "metadata": {},
     "output_type": "execute_result"
    }
   ],
   "source": [
    "cost_PtoD = pd.read_excel(xlsx_file, sheet_name = \"Coef_1\", index_col = 0, usecols = [0,1,2], nrows = 4)\n",
    "cost_PtoD"
   ]
  },
  {
   "cell_type": "code",
   "execution_count": 6,
   "metadata": {},
   "outputs": [
    {
     "data": {
      "text/html": [
       "<div>\n",
       "<style scoped>\n",
       "    .dataframe tbody tr th:only-of-type {\n",
       "        vertical-align: middle;\n",
       "    }\n",
       "\n",
       "    .dataframe tbody tr th {\n",
       "        vertical-align: top;\n",
       "    }\n",
       "\n",
       "    .dataframe thead th {\n",
       "        text-align: right;\n",
       "    }\n",
       "</style>\n",
       "<table border=\"1\" class=\"dataframe\">\n",
       "  <thead>\n",
       "    <tr style=\"text-align: right;\">\n",
       "      <th></th>\n",
       "      <th>W1</th>\n",
       "      <th>W2</th>\n",
       "      <th>W3</th>\n",
       "      <th>W4</th>\n",
       "      <th>W5</th>\n",
       "    </tr>\n",
       "    <tr>\n",
       "      <th>(From) DC</th>\n",
       "      <th></th>\n",
       "      <th></th>\n",
       "      <th></th>\n",
       "      <th></th>\n",
       "      <th></th>\n",
       "    </tr>\n",
       "  </thead>\n",
       "  <tbody>\n",
       "    <tr>\n",
       "      <th>D1</th>\n",
       "      <td>0.5</td>\n",
       "      <td>0.4</td>\n",
       "      <td>0.3</td>\n",
       "      <td>0.5</td>\n",
       "      <td>0.72</td>\n",
       "    </tr>\n",
       "    <tr>\n",
       "      <th>D2</th>\n",
       "      <td>0.7</td>\n",
       "      <td>0.6</td>\n",
       "      <td>0.2</td>\n",
       "      <td>0.5</td>\n",
       "      <td>0.55</td>\n",
       "    </tr>\n",
       "  </tbody>\n",
       "</table>\n",
       "</div>"
      ],
      "text/plain": [
       "            W1   W2   W3   W4    W5\n",
       "(From) DC                          \n",
       "D1         0.5  0.4  0.3  0.5  0.72\n",
       "D2         0.7  0.6  0.2  0.5  0.55"
      ]
     },
     "execution_count": 6,
     "metadata": {},
     "output_type": "execute_result"
    }
   ],
   "source": [
    "cost_DtoW = pd.read_excel(xlsx_file, sheet_name=\"Coef_2\", index_col=0)\n",
    "cost_DtoW"
   ]
  },
  {
   "cell_type": "code",
   "execution_count": 7,
   "metadata": {},
   "outputs": [
    {
     "data": {
      "text/html": [
       "<div>\n",
       "<style scoped>\n",
       "    .dataframe tbody tr th:only-of-type {\n",
       "        vertical-align: middle;\n",
       "    }\n",
       "\n",
       "    .dataframe tbody tr th {\n",
       "        vertical-align: top;\n",
       "    }\n",
       "\n",
       "    .dataframe thead th {\n",
       "        text-align: right;\n",
       "    }\n",
       "</style>\n",
       "<table border=\"1\" class=\"dataframe\">\n",
       "  <thead>\n",
       "    <tr style=\"text-align: right;\">\n",
       "      <th></th>\n",
       "      <th>Capacity</th>\n",
       "    </tr>\n",
       "  </thead>\n",
       "  <tbody>\n",
       "    <tr>\n",
       "      <th>P1</th>\n",
       "      <td>10000</td>\n",
       "    </tr>\n",
       "    <tr>\n",
       "      <th>P2</th>\n",
       "      <td>11000</td>\n",
       "    </tr>\n",
       "    <tr>\n",
       "      <th>P3</th>\n",
       "      <td>10500</td>\n",
       "    </tr>\n",
       "  </tbody>\n",
       "</table>\n",
       "</div>"
      ],
      "text/plain": [
       "    Capacity\n",
       "P1     10000\n",
       "P2     11000\n",
       "P3     10500"
      ]
     },
     "execution_count": 7,
     "metadata": {},
     "output_type": "execute_result"
    }
   ],
   "source": [
    "capacity = pd.read_excel(xlsx_file, sheet_name = \"RHS\", index_col = 0, usecols = [0,1], nrows = 3)\n",
    "capacity"
   ]
  },
  {
   "cell_type": "code",
   "execution_count": 8,
   "metadata": {},
   "outputs": [
    {
     "data": {
      "text/html": [
       "<div>\n",
       "<style scoped>\n",
       "    .dataframe tbody tr th:only-of-type {\n",
       "        vertical-align: middle;\n",
       "    }\n",
       "\n",
       "    .dataframe tbody tr th {\n",
       "        vertical-align: top;\n",
       "    }\n",
       "\n",
       "    .dataframe thead th {\n",
       "        text-align: right;\n",
       "    }\n",
       "</style>\n",
       "<table border=\"1\" class=\"dataframe\">\n",
       "  <thead>\n",
       "    <tr style=\"text-align: right;\">\n",
       "      <th></th>\n",
       "      <th>Requirement</th>\n",
       "    </tr>\n",
       "  </thead>\n",
       "  <tbody>\n",
       "    <tr>\n",
       "      <th>W1</th>\n",
       "      <td>5000</td>\n",
       "    </tr>\n",
       "    <tr>\n",
       "      <th>W2</th>\n",
       "      <td>7500</td>\n",
       "    </tr>\n",
       "    <tr>\n",
       "      <th>W3</th>\n",
       "      <td>6000</td>\n",
       "    </tr>\n",
       "    <tr>\n",
       "      <th>W4</th>\n",
       "      <td>5500</td>\n",
       "    </tr>\n",
       "    <tr>\n",
       "      <th>W5</th>\n",
       "      <td>6250</td>\n",
       "    </tr>\n",
       "  </tbody>\n",
       "</table>\n",
       "</div>"
      ],
      "text/plain": [
       "    Requirement\n",
       "W1         5000\n",
       "W2         7500\n",
       "W3         6000\n",
       "W4         5500\n",
       "W5         6250"
      ]
     },
     "execution_count": 8,
     "metadata": {},
     "output_type": "execute_result"
    }
   ],
   "source": [
    "requirement = pd.read_excel(xlsx_file, sheet_name=\"RHS\", index_col=0, usecols=[2, 3], nrows=6)\n",
    "requirement"
   ]
  },
  {
   "cell_type": "code",
   "execution_count": 9,
   "metadata": {},
   "outputs": [],
   "source": [
    "model = pe.ConcreteModel()"
   ]
  },
  {
   "cell_type": "code",
   "execution_count": 10,
   "metadata": {},
   "outputs": [],
   "source": [
    "DV_indexes_PtoD = ['D1', 'D2']\n",
    "model.P1 = pe.Var(DV_indexes_PtoD, domain = pe.NonNegativeReals)\n",
    "model.P2 = pe.Var(DV_indexes_PtoD, domain = pe.NonNegativeReals)\n",
    "model.P3 = pe.Var(DV_indexes_PtoD, domain = pe.NonNegativeReals)"
   ]
  },
  {
   "cell_type": "code",
   "execution_count": 11,
   "metadata": {},
   "outputs": [
    {
     "name": "stdout",
     "output_type": "stream",
     "text": [
      "5 Set Declarations\n",
      "    D1_index : Size=1, Index=None, Ordered=Insertion\n",
      "        Key  : Dimen : Domain : Size : Members\n",
      "        None :     1 :    Any :    5 : {'W1', 'W2', 'W3', 'W4', 'W5'}\n",
      "    D2_index : Size=1, Index=None, Ordered=Insertion\n",
      "        Key  : Dimen : Domain : Size : Members\n",
      "        None :     1 :    Any :    5 : {'W1', 'W2', 'W3', 'W4', 'W5'}\n",
      "    P1_index : Size=1, Index=None, Ordered=Insertion\n",
      "        Key  : Dimen : Domain : Size : Members\n",
      "        None :     1 :    Any :    2 : {'D1', 'D2'}\n",
      "    P2_index : Size=1, Index=None, Ordered=Insertion\n",
      "        Key  : Dimen : Domain : Size : Members\n",
      "        None :     1 :    Any :    2 : {'D1', 'D2'}\n",
      "    P3_index : Size=1, Index=None, Ordered=Insertion\n",
      "        Key  : Dimen : Domain : Size : Members\n",
      "        None :     1 :    Any :    2 : {'D1', 'D2'}\n",
      "\n",
      "5 Var Declarations\n",
      "    D1 : Size=5, Index=D1_index\n",
      "        Key : Lower : Value : Upper : Fixed : Stale : Domain\n",
      "         W1 :     0 :  None :  None : False :  True : NonNegativeReals\n",
      "         W2 :     0 :  None :  None : False :  True : NonNegativeReals\n",
      "         W3 :     0 :  None :  None : False :  True : NonNegativeReals\n",
      "         W4 :     0 :  None :  None : False :  True : NonNegativeReals\n",
      "         W5 :     0 :  None :  None : False :  True : NonNegativeReals\n",
      "    D2 : Size=5, Index=D2_index\n",
      "        Key : Lower : Value : Upper : Fixed : Stale : Domain\n",
      "         W1 :     0 :  None :  None : False :  True : NonNegativeReals\n",
      "         W2 :     0 :  None :  None : False :  True : NonNegativeReals\n",
      "         W3 :     0 :  None :  None : False :  True : NonNegativeReals\n",
      "         W4 :     0 :  None :  None : False :  True : NonNegativeReals\n",
      "         W5 :     0 :  None :  None : False :  True : NonNegativeReals\n",
      "    P1 : Size=2, Index=P1_index\n",
      "        Key : Lower : Value : Upper : Fixed : Stale : Domain\n",
      "         D1 :     0 :  None :  None : False :  True : NonNegativeReals\n",
      "         D2 :     0 :  None :  None : False :  True : NonNegativeReals\n",
      "    P2 : Size=2, Index=P2_index\n",
      "        Key : Lower : Value : Upper : Fixed : Stale : Domain\n",
      "         D1 :     0 :  None :  None : False :  True : NonNegativeReals\n",
      "         D2 :     0 :  None :  None : False :  True : NonNegativeReals\n",
      "    P3 : Size=2, Index=P3_index\n",
      "        Key : Lower : Value : Upper : Fixed : Stale : Domain\n",
      "         D1 :     0 :  None :  None : False :  True : NonNegativeReals\n",
      "         D2 :     0 :  None :  None : False :  True : NonNegativeReals\n",
      "\n",
      "10 Declarations: P1_index P1 P2_index P2 P3_index P3 D1_index D1 D2_index D2\n"
     ]
    }
   ],
   "source": [
    "DV_indexes_DtoW = ['W1', 'W2', 'W3', 'W4', 'W5']\n",
    "model.D1 = pe.Var(DV_indexes_DtoW, domain=pe.NonNegativeReals)\n",
    "model.D2 = pe.Var(DV_indexes_DtoW, domain=pe.NonNegativeReals)\n",
    "model.pprint()"
   ]
  },
  {
   "cell_type": "code",
   "execution_count": 12,
   "metadata": {},
   "outputs": [],
   "source": [
    "model.obj = pe.Objective(expr = sum([cost_PtoD.loc['P1', index]*model.P1[index] for index in DV_indexes_PtoD] +\n",
    "                         [cost_PtoD.loc['P2', index]*model.P2[index] for index in DV_indexes_PtoD] +\n",
    "                         [cost_PtoD.loc['P3', index]*model.P3[index] for index in DV_indexes_PtoD] +\n",
    "                         [cost_DtoW.loc['D1', index] * model.D1[index] for index in DV_indexes_DtoW] +\n",
    "                         [cost_DtoW.loc['D2', index] * model.D2[index] for index in DV_indexes_DtoW]),\n",
    "                         sense = pe.minimize)"
   ]
  },
  {
   "cell_type": "code",
   "execution_count": 13,
   "metadata": {},
   "outputs": [
    {
     "name": "stdout",
     "output_type": "stream",
     "text": [
      "obj : Size=1, Index=None, Active=True\n",
      "    Key  : Active : Sense    : Expression\n",
      "    None :   True : minimize : 0.5*P1[D1] + 0.6*P1[D2] + 0.65*P2[D1] + 0.65*P2[D2] + 0.63*P3[D1] + 0.78*P3[D2] + 0.5*D1[W1] + 0.4*D1[W2] + 0.3*D1[W3] + 0.5*D1[W4] + 0.72*D1[W5] + 0.7*D2[W1] + 0.6*D2[W2] + 0.2*D2[W3] + 0.5*D2[W4] + 0.55*D2[W5]\n"
     ]
    }
   ],
   "source": [
    "model.obj.pprint()"
   ]
  },
  {
   "cell_type": "code",
   "execution_count": 14,
   "metadata": {},
   "outputs": [],
   "source": [
    "#Capacity Constraints\n",
    "model.con_P1 = pe.Constraint(expr = sum(model.P1[index] for index in DV_indexes_PtoD) \n",
    "                              <= capacity.loc['P1','Capacity'])\n",
    "model.con_P2 = pe.Constraint(expr = sum(model.P2[index] for index in DV_indexes_PtoD)\n",
    "                              <= capacity.loc['P2','Capacity'])\n",
    "model.con_P3 = pe.Constraint(expr = sum(model.P3[index] for index in DV_indexes_PtoD)\n",
    "                              <= capacity.loc['P3','Capacity'])  \n",
    "#Requirement Constraints\n",
    "model.con_W1 = pe.Constraint(expr = model.D1['W1'] + model.D2['W1'] \n",
    "                             >= requirement.loc['W1','Requirement'])\n",
    "model.con_W2 = pe.Constraint(expr = model.D1['W2'] + model.D2['W2'] \n",
    "                             >= requirement.loc['W2','Requirement'])\n",
    "model.con_W3 = pe.Constraint(expr = model.D1['W3'] + model.D2['W3'] \n",
    "                             >= requirement.loc['W3','Requirement'])\n",
    "model.con_W4 = pe.Constraint(expr = model.D1['W4'] + model.D2['W4'] \n",
    "                             >= requirement.loc['W4','Requirement'])\n",
    "model.con_W5 = pe.Constraint(expr = model.D1['W5'] + model.D2['W5'] \n",
    "                             >= requirement.loc['W5','Requirement'])\n",
    "#Matching Constraints\n",
    "model.con_D1 = pe.Constraint(expr = model.D1['W1'] + model.D1['W2'] + model.D1['W3'] + model.D1['W4'] + model.D1['W5'] \n",
    "                              == model.P1['D1'] + model.P2['D1'] + model.P3['D1'])\n",
    "model.con_D2 = pe.Constraint(expr = model.D2['W1'] + model.D2['W2'] + model.D2['W3'] + model.D2['W4'] + model.D2['W5'] \n",
    "                              == model.P1['D2'] + model.P2['D2'] + model.P3['D2'])"
   ]
  },
  {
   "cell_type": "code",
   "execution_count": 15,
   "metadata": {},
   "outputs": [
    {
     "name": "stdout",
     "output_type": "stream",
     "text": [
      "con_P1 : Size=1, Index=None, Active=True\n",
      "    Key  : Lower : Body            : Upper   : Active\n",
      "    None :  -Inf : P1[D1] + P1[D2] : 10000.0 :   True\n"
     ]
    }
   ],
   "source": [
    "model.con_P1.pprint()"
   ]
  },
  {
   "cell_type": "code",
   "execution_count": 16,
   "metadata": {},
   "outputs": [
    {
     "name": "stdout",
     "output_type": "stream",
     "text": [
      "ok optimal\n"
     ]
    }
   ],
   "source": [
    "opt = pe.SolverFactory('glpk')\n",
    "result = opt.solve(model)\n",
    "print(result.solver.status, result.solver.termination_condition)"
   ]
  },
  {
   "cell_type": "code",
   "execution_count": 17,
   "metadata": {},
   "outputs": [
    {
     "name": "stdout",
     "output_type": "stream",
     "text": [
      "Model unknown\n",
      "\n",
      "  Variables:\n",
      "    P1 : Size=2, Index=P1_index\n",
      "        Key : Lower : Value   : Upper : Fixed : Stale : Domain\n",
      "         D1 :     0 : 10000.0 :  None : False : False : NonNegativeReals\n",
      "         D2 :     0 :     0.0 :  None : False : False : NonNegativeReals\n",
      "    P2 : Size=2, Index=P2_index\n",
      "        Key : Lower : Value   : Upper : Fixed : Stale : Domain\n",
      "         D1 :     0 :     0.0 :  None : False : False : NonNegativeReals\n",
      "         D2 :     0 : 11000.0 :  None : False : False : NonNegativeReals\n",
      "    P3 : Size=2, Index=P3_index\n",
      "        Key : Lower : Value  : Upper : Fixed : Stale : Domain\n",
      "         D1 :     0 : 9250.0 :  None : False : False : NonNegativeReals\n",
      "         D2 :     0 :    0.0 :  None : False : False : NonNegativeReals\n",
      "    D1 : Size=5, Index=D1_index\n",
      "        Key : Lower : Value  : Upper : Fixed : Stale : Domain\n",
      "         W1 :     0 : 5000.0 :  None : False : False : NonNegativeReals\n",
      "         W2 :     0 : 7500.0 :  None : False : False : NonNegativeReals\n",
      "         W3 :     0 : 1250.0 :  None : False : False : NonNegativeReals\n",
      "         W4 :     0 : 5500.0 :  None : False : False : NonNegativeReals\n",
      "         W5 :     0 :    0.0 :  None : False : False : NonNegativeReals\n",
      "    D2 : Size=5, Index=D2_index\n",
      "        Key : Lower : Value  : Upper : Fixed : Stale : Domain\n",
      "         W1 :     0 :    0.0 :  None : False : False : NonNegativeReals\n",
      "         W2 :     0 :    0.0 :  None : False : False : NonNegativeReals\n",
      "         W3 :     0 : 4750.0 :  None : False : False : NonNegativeReals\n",
      "         W4 :     0 :    0.0 :  None : False : False : NonNegativeReals\n",
      "         W5 :     0 : 6250.0 :  None : False : False : NonNegativeReals\n",
      "\n",
      "  Objectives:\n",
      "    obj : Size=1, Index=None, Active=True\n",
      "        Key  : Active : Value\n",
      "        None :   True : 30990.0\n",
      "\n",
      "  Constraints:\n",
      "    con_P1 : Size=1\n",
      "        Key  : Lower : Body    : Upper\n",
      "        None :  None : 10000.0 : 10000.0\n",
      "    con_P2 : Size=1\n",
      "        Key  : Lower : Body    : Upper\n",
      "        None :  None : 11000.0 : 11000.0\n",
      "    con_P3 : Size=1\n",
      "        Key  : Lower : Body   : Upper\n",
      "        None :  None : 9250.0 : 10500.0\n",
      "    con_W1 : Size=1\n",
      "        Key  : Lower  : Body   : Upper\n",
      "        None : 5000.0 : 5000.0 :  None\n",
      "    con_W2 : Size=1\n",
      "        Key  : Lower  : Body   : Upper\n",
      "        None : 7500.0 : 7500.0 :  None\n",
      "    con_W3 : Size=1\n",
      "        Key  : Lower  : Body   : Upper\n",
      "        None : 6000.0 : 6000.0 :  None\n",
      "    con_W4 : Size=1\n",
      "        Key  : Lower  : Body   : Upper\n",
      "        None : 5500.0 : 5500.0 :  None\n",
      "    con_W5 : Size=1\n",
      "        Key  : Lower  : Body   : Upper\n",
      "        None : 6250.0 : 6250.0 :  None\n",
      "    con_D1 : Size=1\n",
      "        Key  : Lower : Body : Upper\n",
      "        None :   0.0 :  0.0 :   0.0\n",
      "    con_D2 : Size=1\n",
      "        Key  : Lower : Body : Upper\n",
      "        None :   0.0 :  0.0 :   0.0\n"
     ]
    }
   ],
   "source": [
    "model.display()"
   ]
  },
  {
   "cell_type": "code",
   "execution_count": 18,
   "metadata": {},
   "outputs": [
    {
     "data": {
      "text/markdown": [
       "optimal capacity objective value minimum cost = $30990.00"
      ],
      "text/plain": [
       "<IPython.core.display.Markdown object>"
      ]
     },
     "metadata": {},
     "output_type": "display_data"
    }
   ],
   "source": [
    "obj_val = model.obj.expr()\n",
    "printmd(f'optimal capacity objective value minimum cost = ${obj_val:.2f}')"
   ]
  },
  {
   "cell_type": "markdown",
   "metadata": {
    "tags": []
   },
   "source": [
    "#### Problem 2\n",
    "2. What are the final values of the decision variables?"
   ]
  },
  {
   "cell_type": "code",
   "execution_count": 19,
   "metadata": {},
   "outputs": [
    {
     "name": "stdout",
     "output_type": "stream",
     "text": [
      "         D1       D2\n",
      "P1  10000.0      0.0\n",
      "P2      0.0  11000.0\n",
      "P3   9250.0      0.0\n",
      "        W1      W2      W3      W4      W5\n",
      "D1  5000.0  7500.0  1250.0  5500.0     0.0\n",
      "D2     0.0     0.0  4750.0     0.0  6250.0\n"
     ]
    }
   ],
   "source": [
    "df_p = pd.DataFrame()\n",
    "df_d = pd.DataFrame()\n",
    "for dv in model.component_objects(pe.Var):\n",
    "    if dv.name.startswith('P'):\n",
    "        values = {f'{subvar}': dv[subvar].value for subvar in dv}\n",
    "        df_p = pd.concat([df_p, pd.DataFrame(values, index=[dv.name])])\n",
    "    elif dv.name.startswith('D'):\n",
    "        values = {f'{subvar}': dv[subvar].value for subvar in dv}\n",
    "        df_d = pd.concat([df_d, pd.DataFrame(values, index=[dv.name])])\n",
    "\n",
    "print(df_p)\n",
    "print(df_d)"
   ]
  },
  {
   "cell_type": "markdown",
   "metadata": {
    "tags": []
   },
   "source": [
    "#### Problem 3\n",
    "3. Is there any slack in the system? If so, what is the amount/route that shows slack?"
   ]
  },
  {
   "cell_type": "code",
   "execution_count": 20,
   "metadata": {},
   "outputs": [
    {
     "name": "stdout",
     "output_type": "stream",
     "text": [
      "P1 Slack = 0.0\n",
      "P2 Slack = 0.0\n",
      "P3 Slack = 1250.0\n",
      "D1 Slack = 0.0\n",
      "D2 Slack = 0.0\n",
      "W1 Slack = 0.0\n",
      "W2 Slack = 0.0\n",
      "W3 Slack = 0.0\n",
      "W4 Slack = 0.0\n",
      "W5 Slack = 0.0\n"
     ]
    },
    {
     "data": {
      "text/markdown": [
       "The slack in the system comes from Plant 3, it produces 1250 units less than is possible."
      ],
      "text/plain": [
       "<IPython.core.display.Markdown object>"
      ]
     },
     "metadata": {},
     "output_type": "display_data"
    }
   ],
   "source": [
    "print(f'P1 Slack = {model.con_P1.slack()}')\n",
    "print(f'P2 Slack = {model.con_P2.slack()}')\n",
    "print(f'P3 Slack = {model.con_P3.slack()}')\n",
    "print(f'D1 Slack = {model.con_D1.slack()}')\n",
    "print(f'D2 Slack = {model.con_D2.slack()}')\n",
    "print(f'W1 Slack = {model.con_W1.slack()}')\n",
    "print(f'W2 Slack = {model.con_W2.slack()}')\n",
    "print(f'W3 Slack = {model.con_W3.slack()}')\n",
    "print(f'W4 Slack = {model.con_W4.slack()}')\n",
    "print(f'W5 Slack = {model.con_W5.slack()}')\n",
    "printmd(f'The slack in the system comes from Plant 3, it produces {model.con_P3.slack():.0f} units less than is possible.')"
   ]
  },
  {
   "cell_type": "markdown",
   "metadata": {
    "tags": []
   },
   "source": [
    "#### Problem 4\n",
    "4. Suppose management tells us that the per unit shipping cost from Plant P3 to Distribution Center D1 is going to change to \\$.60. How do your answers to 1. and 2. change? "
   ]
  },
  {
   "cell_type": "code",
   "execution_count": 21,
   "metadata": {
    "tags": []
   },
   "outputs": [],
   "source": [
    "def run_model():\n",
    "    model = pe.ConcreteModel()\n",
    "\n",
    "    DV_indexes_PtoD = ['D1', 'D2']\n",
    "    model.P1 = pe.Var(DV_indexes_PtoD, domain = pe.NonNegativeReals)\n",
    "    model.P2 = pe.Var(DV_indexes_PtoD, domain = pe.NonNegativeReals)\n",
    "    model.P3 = pe.Var(DV_indexes_PtoD, domain = pe.NonNegativeReals)\n",
    "\n",
    "    DV_indexes_DtoW = ['W1', 'W2', 'W3', 'W4', 'W5']\n",
    "    model.D1 = pe.Var(DV_indexes_DtoW, domain=pe.NonNegativeReals)\n",
    "    model.D2 = pe.Var(DV_indexes_DtoW, domain=pe.NonNegativeReals)\n",
    "\n",
    "    model.obj = pe.Objective(expr = sum([cost_PtoD.loc['P1', index]*model.P1[index] for index in DV_indexes_PtoD] +\n",
    "                         [cost_PtoD.loc['P2', index]*model.P2[index] for index in DV_indexes_PtoD] +\n",
    "                         [cost_PtoD.loc['P3', index]*model.P3[index] for index in DV_indexes_PtoD] +\n",
    "                         [cost_DtoW.loc['D1', index] * model.D1[index] for index in DV_indexes_DtoW] +\n",
    "                         [cost_DtoW.loc['D2', index] * model.D2[index] for index in DV_indexes_DtoW]),\n",
    "                         sense = pe.minimize)\n",
    "\n",
    "    #Capacity Constraints\n",
    "    model.con_P1 = pe.Constraint(expr = sum(model.P1[index] for index in DV_indexes_PtoD) \n",
    "                              <= capacity.loc['P1','Capacity'])\n",
    "    model.con_P2 = pe.Constraint(expr = sum(model.P2[index] for index in DV_indexes_PtoD)\n",
    "                              <= capacity.loc['P2','Capacity'])\n",
    "    model.con_P3 = pe.Constraint(expr = sum(model.P3[index] for index in DV_indexes_PtoD)\n",
    "                              <= capacity.loc['P3','Capacity'])  \n",
    "    #Requirement Constraints\n",
    "    model.con_W1 = pe.Constraint(expr = model.D1['W1'] + model.D2['W1'] \n",
    "                             >= requirement.loc['W1','Requirement'])\n",
    "    model.con_W2 = pe.Constraint(expr = model.D1['W2'] + model.D2['W2'] \n",
    "                             >= requirement.loc['W2','Requirement'])\n",
    "    model.con_W3 = pe.Constraint(expr = model.D1['W3'] + model.D2['W3'] \n",
    "                             >= requirement.loc['W3','Requirement'])\n",
    "    model.con_W4 = pe.Constraint(expr = model.D1['W4'] + model.D2['W4'] \n",
    "                             >= requirement.loc['W4','Requirement'])\n",
    "    model.con_W5 = pe.Constraint(expr = model.D1['W5'] + model.D2['W5'] \n",
    "                             >= requirement.loc['W5','Requirement'])\n",
    "    #Matching Constraints\n",
    "    model.con_D1 = pe.Constraint(expr = model.D1['W1'] + model.D1['W2'] + model.D1['W3'] + model.D1['W4'] + model.D1['W5'] \n",
    "                              == model.P1['D1'] + model.P2['D1'] + model.P3['D1'])\n",
    "    model.con_D2 = pe.Constraint(expr = model.D2['W1'] + model.D2['W2'] + model.D2['W3'] + model.D2['W4'] + model.D2['W5'] \n",
    "                              == model.P1['D2'] + model.P2['D2'] + model.P3['D2'])\n",
    "    opt = pe.SolverFactory('glpk')\n",
    "    #opt.solve(model,tee=True) \n",
    "    success=opt.solve(model)\n",
    "\n",
    "    return model"
   ]
  },
  {
   "cell_type": "code",
   "execution_count": 22,
   "metadata": {},
   "outputs": [
    {
     "data": {
      "text/html": [
       "<div>\n",
       "<style scoped>\n",
       "    .dataframe tbody tr th:only-of-type {\n",
       "        vertical-align: middle;\n",
       "    }\n",
       "\n",
       "    .dataframe tbody tr th {\n",
       "        vertical-align: top;\n",
       "    }\n",
       "\n",
       "    .dataframe thead th {\n",
       "        text-align: right;\n",
       "    }\n",
       "</style>\n",
       "<table border=\"1\" class=\"dataframe\">\n",
       "  <thead>\n",
       "    <tr style=\"text-align: right;\">\n",
       "      <th></th>\n",
       "      <th>D1</th>\n",
       "      <th>D2</th>\n",
       "    </tr>\n",
       "    <tr>\n",
       "      <th>(From) Plant</th>\n",
       "      <th></th>\n",
       "      <th></th>\n",
       "    </tr>\n",
       "  </thead>\n",
       "  <tbody>\n",
       "    <tr>\n",
       "      <th>P1</th>\n",
       "      <td>0.50</td>\n",
       "      <td>0.60</td>\n",
       "    </tr>\n",
       "    <tr>\n",
       "      <th>P2</th>\n",
       "      <td>0.65</td>\n",
       "      <td>0.65</td>\n",
       "    </tr>\n",
       "    <tr>\n",
       "      <th>P3</th>\n",
       "      <td>0.63</td>\n",
       "      <td>0.78</td>\n",
       "    </tr>\n",
       "  </tbody>\n",
       "</table>\n",
       "</div>"
      ],
      "text/plain": [
       "                D1    D2\n",
       "(From) Plant            \n",
       "P1            0.50  0.60\n",
       "P2            0.65  0.65\n",
       "P3            0.63  0.78"
      ]
     },
     "execution_count": 22,
     "metadata": {},
     "output_type": "execute_result"
    }
   ],
   "source": [
    "cost_PtoD_orig = cost_PtoD.copy()\n",
    "cost_PtoD_orig"
   ]
  },
  {
   "cell_type": "code",
   "execution_count": 23,
   "metadata": {},
   "outputs": [
    {
     "data": {
      "text/html": [
       "<div>\n",
       "<style scoped>\n",
       "    .dataframe tbody tr th:only-of-type {\n",
       "        vertical-align: middle;\n",
       "    }\n",
       "\n",
       "    .dataframe tbody tr th {\n",
       "        vertical-align: top;\n",
       "    }\n",
       "\n",
       "    .dataframe thead th {\n",
       "        text-align: right;\n",
       "    }\n",
       "</style>\n",
       "<table border=\"1\" class=\"dataframe\">\n",
       "  <thead>\n",
       "    <tr style=\"text-align: right;\">\n",
       "      <th></th>\n",
       "      <th>D1</th>\n",
       "      <th>D2</th>\n",
       "    </tr>\n",
       "    <tr>\n",
       "      <th>(From) Plant</th>\n",
       "      <th></th>\n",
       "      <th></th>\n",
       "    </tr>\n",
       "  </thead>\n",
       "  <tbody>\n",
       "    <tr>\n",
       "      <th>P1</th>\n",
       "      <td>0.50</td>\n",
       "      <td>0.60</td>\n",
       "    </tr>\n",
       "    <tr>\n",
       "      <th>P2</th>\n",
       "      <td>0.65</td>\n",
       "      <td>0.65</td>\n",
       "    </tr>\n",
       "    <tr>\n",
       "      <th>P3</th>\n",
       "      <td>0.60</td>\n",
       "      <td>0.78</td>\n",
       "    </tr>\n",
       "  </tbody>\n",
       "</table>\n",
       "</div>"
      ],
      "text/plain": [
       "                D1    D2\n",
       "(From) Plant            \n",
       "P1            0.50  0.60\n",
       "P2            0.65  0.65\n",
       "P3            0.60  0.78"
      ]
     },
     "execution_count": 23,
     "metadata": {},
     "output_type": "execute_result"
    }
   ],
   "source": [
    "cost_PtoD = cost_PtoD_orig.copy() #reset to original\n",
    "cost_PtoD.loc['P3','D1'] = cost_PtoD.loc['P3','D1'] - .03\n",
    "cost_PtoD"
   ]
  },
  {
   "cell_type": "code",
   "execution_count": 24,
   "metadata": {
    "scrolled": true
   },
   "outputs": [
    {
     "data": {
      "text/markdown": [
       "New optimal objective value minimum cost = $30712.50"
      ],
      "text/plain": [
       "<IPython.core.display.Markdown object>"
      ]
     },
     "metadata": {},
     "output_type": "display_data"
    }
   ],
   "source": [
    "model = run_model()\n",
    "obj_val = model.obj.expr()\n",
    "printmd(f'New optimal objective value minimum cost = ${obj_val:.2f}')"
   ]
  },
  {
   "cell_type": "markdown",
   "metadata": {
    "tags": []
   },
   "source": [
    "#### Problem 5\n",
    "5. Show the values of the decision variables as barcharts using `seaborn`. Create a separate plot for Plants to Distribution Centers (colored by DCs) and another for DCs to Warehouses (colored by WHs)."
   ]
  },
  {
   "cell_type": "code",
   "execution_count": 25,
   "metadata": {},
   "outputs": [
    {
     "data": {
      "image/png": "[encoded data removed]",
      "text/plain": [
       "<Figure size 640x480 with 1 Axes>"
      ]
     },
     "metadata": {},
     "output_type": "display_data"
    },
    {
     "data": {
      "image/png": "[encoded data removed]",
      "text/plain": [
       "<Figure size 640x480 with 1 Axes>"
      ]
     },
     "metadata": {},
     "output_type": "display_data"
    }
   ],
   "source": [
    "sns.barplot(data=df_p, palette=\"Blues_d\")\n",
    "plt.title('Shipment From Production to Distribution')\n",
    "plt.xlabel('Production Location')\n",
    "plt.ylabel('Units Shipped')\n",
    "plt.show()\n",
    "\n",
    "sns.barplot(data=df_d, palette=\"Blues_d\")\n",
    "plt.title('Shipment From Distribution to Warehouse')\n",
    "plt.xlabel('Distribution Location')\n",
    "plt.ylabel('Units Shipped')\n",
    "plt.show()\n"
   ]
  },
  {
   "cell_type": "markdown",
   "metadata": {},
   "source": [
    "#### Problem 6a\n",
    "6. Create a sequence of shipping costs (P3 to D1) from 0.5 to 0.7 in one cent increments (21 unique values). \n",
    "\n",
    "    a. Make a plot showing how the overall shipping costs change as a function of this sequence."
   ]
  },
  {
   "cell_type": "code",
   "execution_count": 26,
   "metadata": {},
   "outputs": [],
   "source": [
    "shipping_P3D1 = [(i + 50)/100 for i in list(range(0, 21))]"
   ]
  },
  {
   "cell_type": "code",
   "execution_count": 27,
   "metadata": {},
   "outputs": [],
   "source": [
    "obj_list_P3D1 = []\n",
    "for val in shipping_P3D1:\n",
    "    cost_PtoD.loc['P3','D1'] = val\n",
    "    model = run_model()\n",
    "    obj_list_P3D1.append(model.obj.expr())"
   ]
  },
  {
   "cell_type": "code",
   "execution_count": 28,
   "metadata": {},
   "outputs": [],
   "source": [
    "obj_df_P3D1 = pd.DataFrame(obj_list_P3D1, \n",
    "                         index = shipping_P3D1, \n",
    "                         columns = ['cost'])"
   ]
  },
  {
   "cell_type": "code",
   "execution_count": 29,
   "metadata": {},
   "outputs": [],
   "source": [
    "zip_list = list(zip(shipping_P3D1, obj_list_P3D1))"
   ]
  },
  {
   "cell_type": "code",
   "execution_count": 30,
   "metadata": {},
   "outputs": [],
   "source": [
    "df = pd.DataFrame(zip_list, columns = ['P3 to D1', 'Cost'])"
   ]
  },
  {
   "cell_type": "code",
   "execution_count": 31,
   "metadata": {},
   "outputs": [
    {
     "data": {
      "image/png": "[encoded data removed]",
      "text/plain": [
       "<Figure size 800x500 with 1 Axes>"
      ]
     },
     "metadata": {},
     "output_type": "display_data"
    }
   ],
   "source": [
    "plt.figure(figsize=(8,5))\n",
    "sns.scatterplot(x = 'P3 to D1', y = 'Cost', data = df).set(title='Shipping Costs P3 to D1')\n",
    "sns.lineplot(x = 'P3 to D1', y = 'Cost', data = df)\n",
    "plt.grid()\n",
    "plt.axvline(x = .63, color = \"red\")\n",
    "plt.show()"
   ]
  },
  {
   "cell_type": "markdown",
   "metadata": {},
   "source": [
    "#### Problem 6b\n",
    "   b. Make two plots showing: (1) the amount of boots shipped between Plant P3 and the two distribution centers and (2) the amount of boots shipped between each distribution center and the five warehouses. The lines should be shown using different colors. "
   ]
  },
  {
   "cell_type": "code",
   "execution_count": 32,
   "metadata": {},
   "outputs": [],
   "source": [
    "DV_list_P3D1=[]\n",
    "for val in shipping_P3D1:\n",
    "    DV_curr_list_P3D1 = []\n",
    "    cost_PtoD.loc['P3','D1'] = val\n",
    "    model = run_model()\n",
    "    for DV in model.component_objects(pe.Var):\n",
    "        for c in DV:\n",
    "            DV_curr_list_P3D1.append(DV[c].value)\n",
    "    DV_list_P3D1.append(DV_curr_list_P3D1)"
   ]
  },
  {
   "cell_type": "code",
   "execution_count": 33,
   "metadata": {},
   "outputs": [],
   "source": [
    "\n",
    "DV_col_names = ['P1,D1', 'P1,D2', 'P2,D1', 'P2,D2', 'P3,D1', 'P3,D2', 'D1,W1', 'D1,W2', 'D1,W3', 'D1,W4', 'D1,W5', 'D2,W1', 'D2,W2', 'D2,W3', 'D2,W4', 'D2,W5']\n",
    "\n",
    "df = pd.DataFrame(DV_list_P3D1, columns=DV_col_names)\n"
   ]
  },
  {
   "cell_type": "code",
   "execution_count": 34,
   "metadata": {},
   "outputs": [],
   "source": [
    "split_index = DV_col_names.index('P3,D2')\n",
    "dfPD = df.iloc[:, :split_index+1]\n",
    "dfDW = df.iloc[:, split_index+1:]"
   ]
  },
  {
   "cell_type": "code",
   "execution_count": 35,
   "metadata": {},
   "outputs": [
    {
     "name": "stderr",
     "output_type": "stream",
     "text": [
      "/var/folders/rq/w3zpq_q96hlc_9t1x4fvjxtc0000gn/T/ipykernel_89464/808809182.py:1: SettingWithCopyWarning: \n",
      "A value is trying to be set on a copy of a slice from a DataFrame.\n",
      "Try using .loc[row_indexer,col_indexer] = value instead\n",
      "\n",
      "See the caveats in the documentation: https://pandas.pydata.org/pandas-docs/stable/user_guide/indexing.html#returning-a-view-versus-a-copy\n",
      "  dfPD.loc[:, 'P3 to D1 Cost'] = shipping_P3D1\n",
      "/var/folders/rq/w3zpq_q96hlc_9t1x4fvjxtc0000gn/T/ipykernel_89464/808809182.py:2: SettingWithCopyWarning: \n",
      "A value is trying to be set on a copy of a slice from a DataFrame.\n",
      "Try using .loc[row_indexer,col_indexer] = value instead\n",
      "\n",
      "See the caveats in the documentation: https://pandas.pydata.org/pandas-docs/stable/user_guide/indexing.html#returning-a-view-versus-a-copy\n",
      "  dfDW.loc[:, 'P3 to D1 Cost'] = shipping_P3D1\n"
     ]
    }
   ],
   "source": [
    "dfPD.loc[:, 'P3 to D1 Cost'] = shipping_P3D1\n",
    "dfDW.loc[:, 'P3 to D1 Cost'] = shipping_P3D1"
   ]
  },
  {
   "cell_type": "code",
   "execution_count": 36,
   "metadata": {},
   "outputs": [],
   "source": [
    "dfPDMelt = pd.melt(dfPD, 'P3 to D1 Cost')\n",
    "dfDWMelt = pd.melt(dfDW, 'P3 to D1 Cost')"
   ]
  },
  {
   "cell_type": "code",
   "execution_count": 37,
   "metadata": {},
   "outputs": [
    {
     "data": {
      "image/png": "[encoded data removed]",
      "text/plain": [
       "<Figure size 800x500 with 1 Axes>"
      ]
     },
     "metadata": {},
     "output_type": "display_data"
    },
    {
     "data": {
      "image/png": "[encoded data removed]",
      "text/plain": [
       "<Figure size 800x500 with 1 Axes>"
      ]
     },
     "metadata": {},
     "output_type": "display_data"
    }
   ],
   "source": [
    "plt.figure(figsize=(8,5))\n",
    "sns.lineplot(x = 'P3 to D1 Cost', y = 'value', hue = 'variable',\n",
    "             data = dfPDMelt)\n",
    "plt.grid()\n",
    "plt.title('Change in Decision Variables by P3 to D1 Cost')\n",
    "plt.ylabel('units sent along each route')\n",
    "plt.legend(title = \"route\")\n",
    "plt.show()\n",
    "\n",
    "plt.figure(figsize=(8,5))\n",
    "sns.lineplot(x = 'P3 to D1 Cost', y = 'value', hue = 'variable',\n",
    "             data = dfDWMelt)\n",
    "plt.grid()\n",
    "plt.title('Change in Decision Variables by P3 to D1 Cost')\n",
    "plt.ylabel('units sent along each route')\n",
    "plt.legend(title = \"route\")\n",
    "plt.show()"
   ]
  },
  {
   "cell_type": "markdown",
   "metadata": {},
   "source": [
    "#### Problem 7\n",
    "7. Finally, let's investigate how changing the demand on the third warehouse changes the final value of the objective function. Create a sequence of demands from 4700 to 7200 by 100 units. Plots those demands on the x axis and the final minimum cost on the y."
   ]
  },
  {
   "cell_type": "code",
   "execution_count": 38,
   "metadata": {},
   "outputs": [],
   "source": [
    "demand_W3 = list(range(4700, 7200, 100))"
   ]
  },
  {
   "cell_type": "code",
   "execution_count": 39,
   "metadata": {},
   "outputs": [],
   "source": [
    "obj_list_W3 = []\n",
    "for val in demand_W3:\n",
    "    cost_DtoW.loc['W3'] = val\n",
    "    model = run_model()\n",
    "    obj_list_W3.append(model.obj.expr())"
   ]
  },
  {
   "cell_type": "code",
   "execution_count": 40,
   "metadata": {},
   "outputs": [],
   "source": [
    "obj_df_W3 = pd.DataFrame(obj_list_W3, \n",
    "                         index = demand_W3, \n",
    "                         columns = ['cost'])"
   ]
  },
  {
   "cell_type": "code",
   "execution_count": 41,
   "metadata": {},
   "outputs": [],
   "source": [
    "zip_listW3 = list(zip(demand_W3, obj_list_W3))"
   ]
  },
  {
   "cell_type": "code",
   "execution_count": 42,
   "metadata": {},
   "outputs": [],
   "source": [
    "dfW3 = pd.DataFrame(zip_listW3, columns = ['W3', 'Cost'])"
   ]
  },
  {
   "cell_type": "code",
   "execution_count": 43,
   "metadata": {},
   "outputs": [
    {
     "data": {
      "image/png": "[encoded data removed]",
      "text/plain": [
       "<Figure size 800x500 with 1 Axes>"
      ]
     },
     "metadata": {},
     "output_type": "display_data"
    }
   ],
   "source": [
    "plt.figure(figsize=(8,5))\n",
    "sns.scatterplot(x = 'W3', y = 'Cost', data = dfW3).set(title='Shipping Costs Based on W3 Demand')\n",
    "sns.lineplot(x = 'W3', y = 'Cost', data = dfW3)\n",
    "plt.grid()\n",
    "plt.axvline(x = 6000, color = \"red\")\n",
    "plt.show()"
   ]
  }
 ],
 "metadata": {
  "kernelspec": {
   "display_name": "Python 3 (ipykernel)",
   "language": "python",
   "name": "python3"
  },
  "language_info": {
   "codemirror_mode": {
    "name": "ipython",
    "version": 3
   },
   "file_extension": ".py",
   "mimetype": "text/x-python",
   "name": "python",
   "nbconvert_exporter": "python",
   "pygments_lexer": "ipython3",
   "version": "3.9.13"
  }
 },
 "nbformat": 4,
 "nbformat_minor": 4
}
